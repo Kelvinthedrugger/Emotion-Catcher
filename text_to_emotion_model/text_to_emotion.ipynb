{
  "cells": [
    {
      "cell_type": "markdown",
      "metadata": {
        "id": "f8_4lHjcvJoF"
      },
      "source": [
        "### Setup model first"
      ]
    },
    {
      "cell_type": "markdown",
      "metadata": {
        "id": "RFa2pUXcvYWa"
      },
      "source": [
        "### Import"
      ]
    },
    {
      "cell_type": "code",
      "execution_count": null,
      "metadata": {
        "id": "lIYdn1woOS1n"
      },
      "outputs": [],
      "source": [
        "%%capture\n",
        "!pip install transformers tokenizers\n",
        "import torch\n",
        "from torch import nn\n",
        "from typing import List\n",
        "import torch.nn.functional as F\n",
        "from transformers import DistilBertTokenizer, AutoTokenizer, AutoModelWithLMHead, DistilBertForSequenceClassification, AdamW, get_linear_schedule_with_warmup\n",
        "import logging\n",
        "import os\n",
        "from functools import lru_cache\n",
        "from tokenizers import ByteLevelBPETokenizer\n",
        "from tokenizers.processors import BertProcessing\n",
        "#import pytorch_lightning as pl\n",
        "from torch.utils.data import DataLoader, Dataset\n",
        "import pandas as pd\n",
        "from argparse import Namespace\n",
        "from sklearn.metrics import classification_report\n",
        "torch.__version__\n"
      ]
    },
    {
      "cell_type": "markdown",
      "metadata": {
        "id": "dw29ZqVzvbzp"
      },
      "source": [
        "### Tokenizer setup"
      ]
    },
    {
      "cell_type": "code",
      "execution_count": null,
      "metadata": {
        "colab": {
          "base_uri": "https://localhost:8080/",
          "height": 145,
          "referenced_widgets": [
            "1aa3c30482e14209b035a6667fc39d3d",
            "cab53cb021054a9eab28a836b9bc5d4a",
            "7d4495dcf69640dfac987a6a009680e6",
            "e85b2bab7b44469ca536e61279347f72",
            "79ed8235dfcd477fa314c30c4a54ed08",
            "fab34115652e4bf78b09f45f52ae19c3",
            "edbed5acc6d54b00977ada8cf1738fc9",
            "9c2f7fc0954d41c984ecf01ee6ae0cd8",
            "6179fd0ad7ac4bac83e863b48d5c610d",
            "cf3cd9232f6945239758e9ee6317ad6a",
            "0548f3feba554187af246d87713ce5ea",
            "f9f3989c231249b6b8bb05b9a2286807",
            "1c34fc04c5254773afb95ef4dad0db49",
            "b21ec230f9494a13899c4013252a749d",
            "7ecae1c5e1c546a38d0ac722ca0b44f2",
            "c24c04fcf11b498dbd725e8b80668927",
            "bf690e65e3b9445e843f0b8ac47c5d4a",
            "a32976d0a49e40fe8333f8741e8e4649",
            "444a07625df24dc5b7660104f50bdfd2",
            "4930c85502eb4b27bc89f7500cf02bcf",
            "9c03ff5f6d19493d8a4085809f1cb27a",
            "cf6e8125045d451f93011e9285c23bdf",
            "e87c1411a74c4bcab752ebc0e86e36a4",
            "0af79228f2864bb89ddf134a3e6594da",
            "81cce0c126f84535926d7d3909cec2ea",
            "9201e4844b044d2d836333579e861795",
            "4df9b180587a4e419fb7b1489cab172b",
            "4d6e30b4232249c1aae713a2fcdb767a",
            "cab98e55ec0d420facc2265ce8d7d2f6",
            "872316a65d294996ab53f4565128677e",
            "c68975517e9240cbadaf1e2f03a61600",
            "c5003e4e4da54822abf69d8f34523914",
            "6c2d94aedd064800b63b1ac1f5791728",
            "c258cc3b8699494592bffbe4c1950470",
            "133690c1d4594f8dbfd3c4f357477fcb",
            "4f471f8017764855bf5742039fa1dca5",
            "af7e8f1c55f447489f682950278e5983",
            "f871f91ce0e047719900fccf6aab2e80",
            "edfd68cbb8bb4376a6f2722eac797d42",
            "75a218121ebb4bc2922ed50f7bfa84f5",
            "327f73127e174c748bcde3b3f3b3ed7c",
            "ff83255734234dbf980593542dfc240c",
            "752de7742264447b9ca4c6cd9989bd42",
            "2fdb0e69e4dc4bf89144d2e40988449b"
          ]
        },
        "id": "sdFcwDIPvdth",
        "outputId": "915c56fd-0d76-4bd7-f8a3-b4bb047cd9e6"
      },
      "outputs": [],
      "source": [
        "!mkdir -p tokenizer\n",
        "## load pretrained tokenizer information\n",
        "def setup_tokenizer():\n",
        "  tokenizer = AutoTokenizer.from_pretrained('distilroberta-base')\n",
        "  tokenizer.save_pretrained(\"tokenizer\")\n",
        "\n",
        "setup_tokenizer()\n",
        "class TokenizersCollateFn:\n",
        "    def __init__(self, max_tokens=512):\n",
        "\n",
        "        ## RoBERTa uses BPE tokenizer similar to GPT\n",
        "        t = ByteLevelBPETokenizer(\n",
        "            \"tokenizer/vocab.json\",\n",
        "            \"tokenizer/merges.txt\"\n",
        "        )\n",
        "        t._tokenizer.post_processor = BertProcessing(\n",
        "            (\"</s>\", t.token_to_id(\"</s>\")),\n",
        "            (\"<s>\", t.token_to_id(\"<s>\")),\n",
        "        )\n",
        "        t.enable_truncation(max_tokens)\n",
        "        t.enable_padding(length=max_tokens, pad_id=t.token_to_id(\"<pad>\"))\n",
        "        self.tokenizer = t\n",
        "\n",
        "    def __call__(self, batch):\n",
        "        encoded = self.tokenizer.encode_batch([x[0] for x in batch])\n",
        "        sequences_padded = torch.tensor([enc.ids for enc in encoded])\n",
        "        attention_masks_padded = torch.tensor([enc.attention_mask for enc in encoded])\n",
        "        labels = torch.tensor([x[1] for x in batch])\n",
        "        \n",
        "        return (sequences_padded, attention_masks_padded), labels\n",
        "## emotion labels\n",
        "label2int = {\n",
        "  \"sadness\": 0,\n",
        "  \"joy\": 1,\n",
        "  \"love\": 2,\n",
        "  \"anger\": 3,\n",
        "  \"fear\": 4,\n",
        "  \"surprise\": 5\n",
        "}\n",
        "\n",
        "emotions = [ \"sadness\", \"joy\", \"love\", \"anger\", \"fear\", \"surprise\"]\n",
        "\n"
      ]
    },
    {
      "cell_type": "markdown",
      "metadata": {
        "id": "TCmYXkDHvaJU"
      },
      "source": [
        "### Model define\n",
        "#### Train from scratch is fine, takes < 20 minutes"
      ]
    },
    {
      "cell_type": "code",
      "execution_count": null,
      "metadata": {
        "id": "dywxDKs-v27O"
      },
      "outputs": [],
      "source": [
        "# from https://github.com/digantamisra98/Mish/blob/b5f006660ac0b4c46e2c6958ad0301d7f9c59651/Mish/Torch/mish.py\n",
        "@torch.jit.script\n",
        "def mish(input):\n",
        "    return input * torch.tanh(F.softplus(input))\n",
        "  \n",
        "class Mish(nn.Module):\n",
        "    def forward(self, input):\n",
        "        return mish(input)\n",
        "\n",
        "\n",
        "class EmoModel(nn.Module):\n",
        "    def __init__(self, base_model, n_classes, base_model_output_size=768, dropout=0.05):\n",
        "        super().__init__()\n",
        "        self.base_model = base_model\n",
        "        \n",
        "        self.classifier = nn.Sequential(\n",
        "            nn.Dropout(dropout),\n",
        "            nn.Linear(base_model_output_size, base_model_output_size),\n",
        "            Mish(),\n",
        "            nn.Dropout(dropout),\n",
        "            nn.Linear(base_model_output_size, n_classes)\n",
        "        )\n",
        "        \n",
        "        for layer in self.classifier:\n",
        "            if isinstance(layer, nn.Linear):\n",
        "                layer.weight.data.normal_(mean=0.0, std=0.02)\n",
        "                if layer.bias is not None:\n",
        "                    layer.bias.data.zero_()\n",
        "\n",
        "    def forward(self, input_, *args):\n",
        "        X, attention_mask = input_\n",
        "        hidden_states = self.base_model(X, attention_mask=attention_mask)\n",
        "        \n",
        "        # maybe do some pooling / RNNs... go crazy here!\n",
        "        \n",
        "        # use the <s> representation\n",
        "        return self.classifier(hidden_states[0][:, 0, :])"
      ]
    },
    {
      "cell_type": "code",
      "execution_count": null,
      "metadata": {
        "colab": {
          "base_uri": "https://localhost:8080/",
          "height": 225,
          "referenced_widgets": [
            "cd840788d7ce4f02bdf5003b79acb4a7",
            "30027defe3f74178867ce96caadb6292",
            "5aa8faa7dc99494b8251ab1ab275237c",
            "4063ff72b24b47f391629682ca5779d3",
            "46480cd822cf492691b1ead4338340ee",
            "c7b3ef68170548c19a94a454c5158f0a",
            "e08186fbf84445aaa7ef267ce960379b",
            "4eb04154736a430f86bbd0508276bf58",
            "5883bdd3bcc24e66998ce84ffc87d440",
            "cefe9b714e304e46ab45aab0217d77e0",
            "d3f1e12f2cb14ed7aac7ae4554fa6f39"
          ]
        },
        "id": "OUTl8ygJSWe7",
        "outputId": "c1ca0871-d85c-44f8-8b30-d958516d4d89"
      },
      "outputs": [],
      "source": [
        "def get_model():\n",
        "  model = EmoModel(AutoModelWithLMHead.from_pretrained(\"distilroberta-base\").base_model, 2)\n",
        "  return model\n",
        "get_model().classifier"
      ]
    },
    {
      "cell_type": "markdown",
      "metadata": {
        "id": "af1t9H_Av4jH"
      },
      "source": [
        "### Dataset "
      ]
    },
    {
      "cell_type": "code",
      "execution_count": null,
      "metadata": {
        "id": "bEh5MW8Hv57s"
      },
      "outputs": [],
      "source": [
        "class EmoDataset(Dataset):\n",
        "    def __init__(self, content):\n",
        "        super().__init__()\n",
        "        self.content = content\n",
        "\n",
        "    def __getitem__(self, idx):\n",
        "        # (string, [V, A])\n",
        "        return self.content[idx][0], self.content[idx][1]\n",
        "\n",
        "    def __len__(self):\n",
        "        return len(self.content)"
      ]
    },
    {
      "cell_type": "markdown",
      "metadata": {
        "id": "n6Ps8H1qwBdO"
      },
      "source": [
        "### load files"
      ]
    },
    {
      "cell_type": "code",
      "execution_count": null,
      "metadata": {
        "id": "bEEfreMZwC2h"
      },
      "outputs": [],
      "source": [
        "!wget -q https://www.dropbox.com/s/e9bxb4qx19be6nn/face_with_va.csv"
      ]
    },
    {
      "cell_type": "code",
      "execution_count": null,
      "metadata": {
        "colab": {
          "base_uri": "https://localhost:8080/"
        },
        "id": "fFm7WITflryA",
        "outputId": "ddd26fe4-13a4-44ab-ce0b-e4f613b87a17"
      },
      "outputs": [],
      "source": [
        "!ls"
      ]
    },
    {
      "cell_type": "code",
      "execution_count": null,
      "metadata": {
        "colab": {
          "base_uri": "https://localhost:8080/"
        },
        "id": "xHO1yGS5wDoV",
        "outputId": "374def9e-413a-4c56-d113-508b9e887796"
      },
      "outputs": [],
      "source": [
        "face_va = pd.read_csv(\"face_with_va.csv\")\n",
        "face_va.head()"
      ]
    },
    {
      "cell_type": "markdown",
      "metadata": {
        "id": "adzTnRoxQUDG"
      },
      "source": [
        "#### file dict that fixes data leak, aka, exclude the emoji from the text itself\n",
        "#### checkout file_dict_fix_structure in drive?"
      ]
    },
    {
      "cell_type": "code",
      "execution_count": null,
      "metadata": {
        "id": "xwliKlTkwDXz"
      },
      "outputs": [],
      "source": [
        "def read_pkl(fname):\n",
        "  import pickle\n",
        "  with open(fname, \"rb\") as f:\n",
        "    ret = pickle.load(f)\n",
        "    f.close()\n",
        "  return ret"
      ]
    },
    {
      "cell_type": "code",
      "execution_count": null,
      "metadata": {
        "id": "bXb5tmHmQSsZ"
      },
      "outputs": [],
      "source": [
        "!wget -q https://www.dropbox.com/s/huubtcxrs988ufn/file_dict_66_fix_data_leak.pkl"
      ]
    },
    {
      "cell_type": "code",
      "execution_count": null,
      "metadata": {
        "id": "VzwD_eL3wdeb"
      },
      "outputs": [],
      "source": [
        "file_dict = read_pkl(\"file_dict_66_fix_data_leak.pkl\")"
      ]
    },
    {
      "cell_type": "code",
      "execution_count": null,
      "metadata": {
        "colab": {
          "base_uri": "https://localhost:8080/"
        },
        "id": "9OqveRHnwdVK",
        "outputId": "a14b2fd6-1ff4-4352-f79c-57d471cf00c9"
      },
      "outputs": [],
      "source": [
        "file_dict.keys()"
      ]
    },
    {
      "cell_type": "code",
      "execution_count": null,
      "metadata": {
        "colab": {
          "base_uri": "https://localhost:8080/"
        },
        "id": "Mb3VTeAsm6G2",
        "outputId": "f681413c-70f5-46f0-d833-09e0c8b5bb1d"
      },
      "outputs": [],
      "source": [
        "len(file_dict.keys())"
      ]
    },
    {
      "cell_type": "code",
      "execution_count": null,
      "metadata": {
        "colab": {
          "base_uri": "https://localhost:8080/"
        },
        "id": "d5zSuFGwyanF",
        "outputId": "b8422d45-8016-41cc-fcba-9dedce168e00"
      },
      "outputs": [],
      "source": [
        "file_dict['tiredface'][0]"
      ]
    },
    {
      "cell_type": "code",
      "execution_count": null,
      "metadata": {
        "id": "ORRQwdQgWPAz"
      },
      "outputs": [],
      "source": [
        "\"check file structure of new file_dict\"\n",
        "for k, v in file_dict.items():\n",
        "  assert isinstance(k, str)\n",
        "  for vv in v:\n",
        "    assert isinstance(vv, str), \"%s %s %s\" % (k, type(v), v)"
      ]
    },
    {
      "cell_type": "code",
      "execution_count": null,
      "metadata": {
        "id": "XLwwY_cryroc"
      },
      "outputs": [],
      "source": [
        "\"key -> [V,A]\"\n",
        "FVA = {k:[v,a] for k, v, a in zip(face_va['face'], face_va['V_norm'], face_va['A_norm'])}"
      ]
    },
    {
      "cell_type": "code",
      "execution_count": null,
      "metadata": {
        "colab": {
          "base_uri": "https://localhost:8080/"
        },
        "id": "hV_LDlScTSyg",
        "outputId": "f0ffb251-1e52-41d3-a4ce-66fedeae49f9"
      },
      "outputs": [],
      "source": [
        "face_va['face']"
      ]
    },
    {
      "cell_type": "code",
      "execution_count": null,
      "metadata": {
        "id": "9M2GPVl0lwiX"
      },
      "outputs": [],
      "source": [
        "\"check FVA, passed\"\n",
        "for k, v in FVA.items():\n",
        "  assert isinstance(k, str)\n",
        "  assert isinstance(v[0], float)\n",
        "  assert isinstance(v[1], float)"
      ]
    },
    {
      "cell_type": "code",
      "execution_count": null,
      "metadata": {
        "colab": {
          "base_uri": "https://localhost:8080/"
        },
        "id": "X3MG64HwTKGv",
        "outputId": "02d20caf-b978-402c-c340-f89f623c843a"
      },
      "outputs": [],
      "source": [
        "FVA['star-struck']\n",
        "#file_dict['starstruck'][0]"
      ]
    },
    {
      "cell_type": "code",
      "execution_count": null,
      "metadata": {
        "id": "tQMXMEcfW4p3"
      },
      "outputs": [],
      "source": [
        "\"stupid as always\"\n",
        "\n",
        "\"create DS\"\n",
        "\"(text, [V,A])\"\n",
        "DS = []\n",
        "\n",
        "for key, posts in file_dict.items():\n",
        "  # loop thru the post\n",
        "  for post in posts:\n",
        "    # (text, [V,A])\n",
        "    if key == 'relieved':\n",
        "      ele = (post, FVA['relievedface'])\n",
        "    elif key == 'starstruck':\n",
        "      ele = (post, FVA['star-struck'])\n",
        "    elif key == 'perserveringface':\n",
        "      ele = (post, FVA['perseveringface'])\n",
        "    elif key == 'smilingfacewithsunglass':\n",
        "      ele = (post, FVA['smilingfacewithsunglasses'])\n",
        "    else:\n",
        "      ele = (post, FVA[key])\n",
        "\n",
        "    DS.append(ele)\n"
      ]
    },
    {
      "cell_type": "code",
      "execution_count": null,
      "metadata": {
        "colab": {
          "base_uri": "https://localhost:8080/"
        },
        "id": "ie206WkowdJv",
        "outputId": "1118b234-9c94-480e-c1ab-66ba34d82799"
      },
      "outputs": [],
      "source": [
        "DS[:2]"
      ]
    },
    {
      "cell_type": "code",
      "execution_count": null,
      "metadata": {
        "id": "ywIUQfjinmMK"
      },
      "outputs": [],
      "source": [
        "for ele in DS:\n",
        "  assert isinstance(ele[0], str), type(ele[0])\n",
        "  for ee in ele[1]:\n",
        "    assert isinstance(ee, float)"
      ]
    },
    {
      "cell_type": "code",
      "execution_count": null,
      "metadata": {
        "colab": {
          "base_uri": "https://localhost:8080/"
        },
        "id": "3I5ZTCIrv_vi",
        "outputId": "98896e40-f099-40ff-e020-963e4925eedb"
      },
      "outputs": [],
      "source": [
        "\"check\"\n",
        "#ds = EmoDataset(plurk_va)\n",
        "ds = EmoDataset(DS)\n",
        "ds[0] # (string, [V,A])"
      ]
    },
    {
      "cell_type": "markdown",
      "metadata": {
        "id": "QUFnxItiVHqG"
      },
      "source": [
        "### Setup for training"
      ]
    },
    {
      "cell_type": "code",
      "execution_count": null,
      "metadata": {
        "colab": {
          "base_uri": "https://localhost:8080/"
        },
        "id": "H6NZpjj1w0aA",
        "outputId": "f9fba1a5-93ee-4c6f-f989-079a35352dbe"
      },
      "outputs": [],
      "source": [
        "\"garbage collect!\"\n",
        "def collect():\n",
        "  torch.cuda.empty_cache()\n",
        "  import gc\n",
        "  print(gc.collect())\n",
        "collect()"
      ]
    },
    {
      "cell_type": "code",
      "execution_count": null,
      "metadata": {
        "id": "7Py0ukIYxPxn"
      },
      "outputs": [],
      "source": [
        "def get_dataloader(content, bs, shuffle):\n",
        "  return DataLoader(EmoDataset(content), batch_size=bs, shuffle=shuffle, collate_fn=TokenizersCollateFn())"
      ]
    },
    {
      "cell_type": "code",
      "execution_count": null,
      "metadata": {
        "id": "f4JUJAmbixdz"
      },
      "outputs": [],
      "source": [
        "import random\n",
        "rdx = random.uniform"
      ]
    },
    {
      "cell_type": "code",
      "execution_count": null,
      "metadata": {
        "colab": {
          "base_uri": "https://localhost:8080/"
        },
        "id": "kEJL1x_mj5we",
        "outputId": "48c295d6-589c-4348-fb67-ca58728575b6"
      },
      "outputs": [],
      "source": [
        "rdx(0,1)"
      ]
    },
    {
      "cell_type": "code",
      "execution_count": null,
      "metadata": {
        "id": "Ee_aVfhGisMh"
      },
      "outputs": [],
      "source": [
        "plurk_train, plurk_val, plurk_test = [], [], []\n",
        "\n",
        "for ele in DS:\n",
        "  sp = rdx(0,1)\n",
        "  if sp > 0.2:\n",
        "    plurk_train.append(ele)\n",
        "  elif sp > 0.1:\n",
        "    plurk_val.append(ele)\n",
        "  else:\n",
        "   plurk_test.append(ele)"
      ]
    },
    {
      "cell_type": "code",
      "execution_count": null,
      "metadata": {
        "colab": {
          "base_uri": "https://localhost:8080/"
        },
        "id": "pHqiO54szF7r",
        "outputId": "4c2395b3-2e81-41fb-f070-083e955ace96"
      },
      "outputs": [],
      "source": [
        "device = torch.device('cuda' if torch.cuda.is_available() else 'cpu')\n",
        "device"
      ]
    },
    {
      "cell_type": "code",
      "execution_count": null,
      "metadata": {
        "id": "a8RWODankdEt"
      },
      "outputs": [],
      "source": [
        "# works\n",
        "bs = 16\n",
        "trainDL = get_dataloader(plurk_train, bs, True)\n",
        "valDL = get_dataloader(plurk_val, bs, True)"
      ]
    },
    {
      "cell_type": "code",
      "execution_count": null,
      "metadata": {
        "colab": {
          "base_uri": "https://localhost:8080/"
        },
        "id": "PHOCO1YokzRZ",
        "outputId": "33cef708-0077-4b78-e146-0bcaa8f35127"
      },
      "outputs": [],
      "source": [
        "tmp = next(iter(trainDL))\n",
        "tmp[0][0].shape, tmp[0][1].shape, tmp[1].shape"
      ]
    },
    {
      "cell_type": "markdown",
      "metadata": {
        "id": "gtX5JkGsUVlI"
      },
      "source": [
        "### Training"
      ]
    },
    {
      "cell_type": "code",
      "execution_count": null,
      "metadata": {
        "colab": {
          "base_uri": "https://localhost:8080/"
        },
        "id": "h0OSOaaLfkOi",
        "outputId": "5c753a76-41a4-4595-bad7-1b9e9ab64122"
      },
      "outputs": [],
      "source": [
        "model = get_model()\n",
        "model.classifier"
      ]
    },
    {
      "cell_type": "code",
      "execution_count": null,
      "metadata": {
        "colab": {
          "base_uri": "https://localhost:8080/"
        },
        "id": "7VImx0mGh3k2",
        "outputId": "efddf21f-fcc8-4016-f829-a94eacd13a8a"
      },
      "outputs": [],
      "source": [
        "\"move model to gpu first\"\n",
        "model.base_model.to(device)\n",
        "model.base_model.device, model.classifier.to(device)"
      ]
    },
    {
      "cell_type": "code",
      "execution_count": null,
      "metadata": {
        "id": "sDGj1JUmZ3Yn"
      },
      "outputs": [],
      "source": [
        "\"let's just od one first\"\n",
        "epochs = 1"
      ]
    },
    {
      "cell_type": "code",
      "execution_count": null,
      "metadata": {
        "colab": {
          "base_uri": "https://localhost:8080/"
        },
        "id": "AcjcDVakZOs9",
        "outputId": "64ff6e02-4d33-42d5-d77e-9d41907ac36a"
      },
      "outputs": [],
      "source": [
        "total_length = len(trainDL)\n",
        "total_length"
      ]
    },
    {
      "cell_type": "markdown",
      "metadata": {
        "id": "sx5IlIGkI8k6"
      },
      "source": [
        "## Gradually unfreeze\n",
        "#### freeze all; base lr = 1e-4\n",
        "### classifiers     lr\n",
        "#### unfreeze -1   1e-4\n",
        "#### unfreeze -2   1e-4/2\n",
        "#### unfreeze -3   1e-4/2\n",
        "#### unfreeze -4   1e-4/2\n",
        "#### unfreeze -5   1e-4/2\n",
        "#### unfreeze all   1e-5\n",
        "\n",
        "\n",
        "### Given the classifier structure, we did the modifications to our freeze policy\n",
        "### freeze the base\n",
        "### unfreeze dropout and mish\n",
        "### only gradual unfreeze on the Linear heads\n"
      ]
    },
    {
      "cell_type": "code",
      "execution_count": null,
      "metadata": {
        "id": "3W7048RXfrwx"
      },
      "outputs": [],
      "source": [
        "\"freeze all\"\n",
        "for layer in list(model.parameters()):\n",
        "  layer.requires_grad = False"
      ]
    },
    {
      "cell_type": "code",
      "execution_count": null,
      "metadata": {
        "colab": {
          "base_uri": "https://localhost:8080/"
        },
        "id": "TKFYqXQIiTun",
        "outputId": "04f0dcb8-7cf8-484b-c89f-03d89eb1008c"
      },
      "outputs": [],
      "source": [
        "model.classifier"
      ]
    },
    {
      "cell_type": "code",
      "execution_count": null,
      "metadata": {
        "id": "wJCO7qJkjDvS"
      },
      "outputs": [],
      "source": [
        "for layer in list(model.classifier.parameters())[-2:]:\n",
        "  layer.requires_grad = True"
      ]
    },
    {
      "cell_type": "code",
      "execution_count": null,
      "metadata": {
        "colab": {
          "base_uri": "https://localhost:8080/"
        },
        "id": "Vq4G4c8vXee9",
        "outputId": "9e65dbea-d536-445d-cb0b-d47739a2c4ce"
      },
      "outputs": [],
      "source": [
        "\"unfreeze to -2 -> -4 -> all\"\n",
        "for layer in list(model.classifier.parameters()):\n",
        "  print(layer.requires_grad)"
      ]
    },
    {
      "cell_type": "code",
      "execution_count": null,
      "metadata": {
        "colab": {
          "base_uri": "https://localhost:8080/"
        },
        "id": "0nzw1JtNwlrd",
        "outputId": "bff548ea-00d7-41ad-bd45-26c96ae3e0fe"
      },
      "outputs": [],
      "source": [
        "\"we're doing regression!\"\n",
        "criterion = nn.MSELoss()\n",
        "# optimizer\n",
        "\" train with larger weights to make top layers better?\"\n",
        "lr = 1e-4\n",
        "optimizer = AdamW(model.parameters(), lr=lr)\n",
        "optimizer.zero_grad()"
      ]
    },
    {
      "cell_type": "code",
      "execution_count": null,
      "metadata": {
        "id": "g__kesd-zIut"
      },
      "outputs": [],
      "source": [
        "train_loss, val_loss = [], []"
      ]
    },
    {
      "cell_type": "code",
      "execution_count": null,
      "metadata": {
        "colab": {
          "base_uri": "https://localhost:8080/"
        },
        "id": "B-tXaPl3gCbz",
        "outputId": "1afeda67-0b75-40fb-9d59-5f7ce2942975"
      },
      "outputs": [],
      "source": [
        "collect()"
      ]
    },
    {
      "cell_type": "markdown",
      "metadata": {
        "id": "rlNnZr4tgIAD"
      },
      "source": [
        "#### freeze until -1"
      ]
    },
    {
      "cell_type": "code",
      "execution_count": null,
      "metadata": {
        "colab": {
          "base_uri": "https://localhost:8080/"
        },
        "id": "zIm-oSAixolK",
        "outputId": "1b6cd1ee-69dd-4630-cdfb-7cefc144ef32"
      },
      "outputs": [],
      "source": [
        "epochs"
      ]
    },
    {
      "cell_type": "code",
      "execution_count": null,
      "metadata": {
        "id": "iOFmjvRoxlC9"
      },
      "outputs": [],
      "source": [
        "\"training loop\"\n",
        "def trainit(epochs):\n",
        "  print(\"epoch batches train_loss val_loss\")\n",
        "  \"update every 4 mini-batches -> 16*4 = 61\"\n",
        "  for epoch in range(epochs):\n",
        "    for i, batch_ in enumerate(trainDL):\n",
        "      # (x, attn), tensor([V, A])\n",
        "      (x, attn), y = batch_\n",
        "      \"# get val loss first\"\n",
        "      if i % 4 == 3:\n",
        "        with torch.no_grad():\n",
        "          model.eval()\n",
        "          (_x, _attn), _y = next(iter(valDL)) # iterates itself\n",
        "          _o = model.forward((_x.to(device), _attn.to(device)))\n",
        "          loss_val = criterion(_o, _y.to(device))\n",
        "          val_loss.append(loss_val.item())\n",
        "\n",
        "      \"# then get train loss\"\n",
        "      model.train()\n",
        "      output = model.forward((x.to(device), attn.to(device)))\n",
        "      loss = criterion(output, y.to(device))\n",
        "      loss.backward()\n",
        "\n",
        "      # update once every 4 time (bs * 4 = 64)\n",
        "      if i % 4 == 3:\n",
        "        optimizer.step()\n",
        "        train_loss.append(loss.item())\n",
        "        # clear the grad, tho the result might be much worsen?\n",
        "        optimizer.zero_grad()\n",
        "\n",
        "      if i % 200 == 199:\n",
        "        print(\"%d     %.3f     %.4f     %.4f\" % (epoch, float((i+1)/total_length), loss.item(), loss_val.item()))\n",
        "\n",
        "  return loss"
      ]
    },
    {
      "cell_type": "code",
      "execution_count": null,
      "metadata": {
        "colab": {
          "base_uri": "https://localhost:8080/"
        },
        "id": "UV0hLBIWw7Dw",
        "outputId": "8b496013-d4ab-4119-ce1f-3a6fda43c1e0"
      },
      "outputs": [],
      "source": [
        "\"unfreeze until -2\"\n",
        "loss = trainit(epochs)"
      ]
    },
    {
      "cell_type": "code",
      "execution_count": null,
      "metadata": {
        "colab": {
          "base_uri": "https://localhost:8080/"
        },
        "id": "lgkb089izQZQ",
        "outputId": "9dbefd8b-d184-4a95-81de-4d24440593d4"
      },
      "outputs": [],
      "source": [
        "\"training loss\"\n",
        "loss.item()"
      ]
    },
    {
      "cell_type": "code",
      "execution_count": null,
      "metadata": {
        "colab": {
          "base_uri": "https://localhost:8080/"
        },
        "id": "EDWhry73Y988",
        "outputId": "e83fabbd-634c-4e90-a9dc-1457de21ce0f"
      },
      "outputs": [],
      "source": [
        "\n",
        "collect()"
      ]
    },
    {
      "cell_type": "code",
      "execution_count": null,
      "metadata": {
        "id": "OJOiV-FUvZxB"
      },
      "outputs": [],
      "source": [
        "from matplotlib import pyplot as plt\n",
        "def plotit(inp_L, legends=None, y_lim=0.1, figsize=(12,8), title=None):\n",
        "  plt.figure(figsize=figsize)\n",
        "  lgnd = []\n",
        "  for inp in inp_L:\n",
        "    plt.plot(range(len(inp)), inp)\n",
        "  \n",
        "  if legends is not None and isinstance(legends, list):\n",
        "    plt.legend(legends)\n",
        "  plt.ylim([0,y_lim])\n",
        "  if title is not None:\n",
        "    plt.title(title)\n",
        "  plt.show()"
      ]
    },
    {
      "cell_type": "markdown",
      "metadata": {
        "id": "t-M0GLZkWJoa"
      },
      "source": [
        "#### check the training result before we moving on"
      ]
    },
    {
      "cell_type": "code",
      "execution_count": null,
      "metadata": {
        "colab": {
          "base_uri": "https://localhost:8080/",
          "height": 499
        },
        "id": "l8iHKZWKWE7u",
        "outputId": "58f426aa-1ae9-420a-9799-68391c073926"
      },
      "outputs": [],
      "source": [
        "plotit([train_loss, val_loss], [\"train_loss\", \"val_loss\"], y_lim=0.5, title=\"freezed until -2\")"
      ]
    },
    {
      "cell_type": "code",
      "execution_count": null,
      "metadata": {
        "colab": {
          "base_uri": "https://localhost:8080/"
        },
        "id": "9cHC6OwCnrov",
        "outputId": "e9d249dc-9575-42d1-f849-1cc0ed46bf19"
      },
      "outputs": [],
      "source": [
        "len(train_loss), len(val_loss)"
      ]
    },
    {
      "cell_type": "markdown",
      "metadata": {
        "id": "ebKcXm7oiHoa"
      },
      "source": [
        "#### save freezed weights just in case we need it later\n",
        "#### in my drive so that we won't lost our file if it disconnected!"
      ]
    },
    {
      "cell_type": "markdown",
      "metadata": {
        "id": "y4LtubbeiCdD"
      },
      "source": [
        "### lower the learning rate!"
      ]
    },
    {
      "cell_type": "markdown",
      "metadata": {
        "id": "bnAEFay4ZEOI"
      },
      "source": [
        "#### what we need was ...\n",
        "#### lr\n",
        "#### optimizer\n",
        "#### trainit \n",
        "#### plotit\n",
        "#### save weights with filename: arch_1_unfreeze_to_$idx.pth"
      ]
    },
    {
      "cell_type": "code",
      "execution_count": null,
      "metadata": {
        "colab": {
          "base_uri": "https://localhost:8080/"
        },
        "id": "eIZ2BzwnaQQL",
        "outputId": "27a225af-eb6f-4974-c156-e05195708f7d"
      },
      "outputs": [],
      "source": [
        "for layers in list(model.classifier.parameters()):\n",
        "  layer.requires_grad = True\n",
        "\n",
        "for layers in list(model.classifier.parameters()):\n",
        "  print(layer.requires_grad)"
      ]
    },
    {
      "cell_type": "code",
      "execution_count": null,
      "metadata": {
        "colab": {
          "base_uri": "https://localhost:8080/"
        },
        "id": "5uPw31KYpyLj",
        "outputId": "3612867f-5c77-4354-d8b4-0970e7ccef1e"
      },
      "outputs": [],
      "source": [
        "lr"
      ]
    },
    {
      "cell_type": "code",
      "execution_count": null,
      "metadata": {
        "colab": {
          "base_uri": "https://localhost:8080/",
          "height": 988
        },
        "id": "dprzp23hZV9m",
        "outputId": "c81b555a-2ef0-49b7-87c6-8b747dff91fe"
      },
      "outputs": [],
      "source": [
        "print(epochs) # mostly 1\n",
        "\n",
        "lr = 1e-4/2\n",
        "\n",
        "optimizer = AdamW(model.parameters(), lr=lr)\n",
        "optimizer.zero_grad()\n",
        "\n",
        "loss = trainit(epochs)\n",
        "loss.item()\n",
        "collect()\n",
        "plotit([train_loss, val_loss], [\"train_loss\", \"val_loss\"], y_lim=0.5, title=\"freezed until %d\" % (-5))\n"
      ]
    },
    {
      "cell_type": "code",
      "execution_count": null,
      "metadata": {
        "id": "Fw_hZmkpquM1"
      },
      "outputs": [],
      "source": [
        "basedir = Path(\"your_directory_here\")\n",
        "\n",
        "assert basedir.is_dir()"
      ]
    },
    {
      "cell_type": "code",
      "execution_count": null,
      "metadata": {
        "id": "Fil6sZB2ZCYw"
      },
      "outputs": [],
      "source": [
        "def save_weights(filename: str):\n",
        "  assert filename.endswith(\".pt\")\n",
        "  assert basedir.is_dir()\n",
        "  assert not Path(basedir/filename).is_file()\n",
        "  torch.save(model.state_dict(), basedir/filename)\n",
        "  !ls -l drive/MyDrive/your_directory_here"
      ]
    },
    {
      "cell_type": "code",
      "execution_count": null,
      "metadata": {
        "colab": {
          "base_uri": "https://localhost:8080/"
        },
        "id": "fLUH_EiIp8UN",
        "outputId": "da0632aa-09c0-418d-87ce-68399ec62799"
      },
      "outputs": [],
      "source": [
        "save_weights(\"arch_1_freeze_until_ng4_.pt\")"
      ]
    },
    {
      "cell_type": "markdown",
      "metadata": {},
      "source": [
        "### Last stage: unfreeze all!"
      ]
    },
    {
      "cell_type": "code",
      "execution_count": null,
      "metadata": {
        "colab": {
          "base_uri": "https://localhost:8080/"
        },
        "id": "_1yNGJvoWFWq",
        "outputId": "a4027f21-e464-42c4-de6d-eabaa4c50b21"
      },
      "outputs": [],
      "source": [
        "lr"
      ]
    },
    {
      "cell_type": "code",
      "execution_count": null,
      "metadata": {
        "id": "nkWjKpignwPW"
      },
      "outputs": [],
      "source": [
        "\"unfreeze all!\"\n",
        "for layer in list(model.parameters()):\n",
        "  layer.requires_grad = True\n",
        "\n",
        "for layer in list(model.parameters()):\n",
        "  assert layer.requires_grad == True"
      ]
    },
    {
      "cell_type": "markdown",
      "metadata": {},
      "source": [
        "#### use a lower learning rate seems to be safe\n",
        "#### in order not to ruined the pretrained weight"
      ]
    },
    {
      "cell_type": "code",
      "execution_count": null,
      "metadata": {
        "colab": {
          "base_uri": "https://localhost:8080/"
        },
        "id": "J_34cJU1wMDu",
        "outputId": "784949c9-50a8-4fb8-b45b-e480b9da501b"
      },
      "outputs": [],
      "source": [
        "lr"
      ]
    },
    {
      "cell_type": "code",
      "execution_count": null,
      "metadata": {
        "colab": {
          "base_uri": "https://localhost:8080/"
        },
        "id": "yR3lY43YnbFu",
        "outputId": "eae7080a-0965-4d32-c050-ee0f8e7388e4"
      },
      "outputs": [],
      "source": [
        "new_lr = 1e-5\n",
        "new_lr"
      ]
    },
    {
      "cell_type": "code",
      "execution_count": null,
      "metadata": {
        "colab": {
          "base_uri": "https://localhost:8080/"
        },
        "id": "gNIXq9Exng2v",
        "outputId": "0c1555ab-338f-49b6-e3c0-7130d8bf37a2"
      },
      "outputs": [],
      "source": [
        "\"optimizer!\"\n",
        "# optimizer\n",
        "optimizer = AdamW(model.parameters(), lr=new_lr)\n",
        "optimizer.zero_grad()\n"
      ]
    },
    {
      "cell_type": "code",
      "execution_count": null,
      "metadata": {
        "colab": {
          "base_uri": "https://localhost:8080/"
        },
        "id": "bs51flZroD8w",
        "outputId": "8e041211-4061-4221-a86b-86fb59f7f47d"
      },
      "outputs": [],
      "source": [
        "collect()"
      ]
    },
    {
      "cell_type": "markdown",
      "metadata": {
        "id": "NSirMyCHoFyR"
      },
      "source": [
        "#### unfreeze + lowered learning rate"
      ]
    },
    {
      "cell_type": "code",
      "execution_count": null,
      "metadata": {
        "colab": {
          "base_uri": "https://localhost:8080/"
        },
        "id": "7iQZ_mp0nd3g",
        "outputId": "2ec60e6c-bf71-4656-ec94-c2121c904b54"
      },
      "outputs": [],
      "source": [
        "loss = trainit(epochs)"
      ]
    },
    {
      "cell_type": "code",
      "execution_count": null,
      "metadata": {
        "colab": {
          "base_uri": "https://localhost:8080/"
        },
        "id": "CF9aWw9ZohzH",
        "outputId": "2723882d-0593-4122-ce8f-cc0f3e66c868"
      },
      "outputs": [],
      "source": [
        "loss.item()"
      ]
    },
    {
      "cell_type": "markdown",
      "metadata": {
        "id": "vgsg3ZWJodwL"
      },
      "source": [
        "#### freeze + unfreeze"
      ]
    },
    {
      "cell_type": "code",
      "execution_count": null,
      "metadata": {
        "colab": {
          "base_uri": "https://localhost:8080/",
          "height": 499
        },
        "id": "5DRVgLWvndsB",
        "outputId": "effdcc00-7039-4ece-c87f-5702b51c8cde"
      },
      "outputs": [],
      "source": [
        "plotit([train_loss, val_loss], [\"train_loss\", \"val_loss\"], y_lim=0.5, title=\"after unfreeze\")"
      ]
    },
    {
      "cell_type": "code",
      "execution_count": null,
      "metadata": {
        "colab": {
          "base_uri": "https://localhost:8080/"
        },
        "id": "WHzNDE5rog4c",
        "outputId": "da055d3c-a52b-4f55-93b0-2eb24cf507a2"
      },
      "outputs": [],
      "source": [
        "len(train_loss), len(val_loss)"
      ]
    },
    {
      "cell_type": "code",
      "execution_count": null,
      "metadata": {
        "colab": {
          "base_uri": "https://localhost:8080/"
        },
        "id": "FTRzS9PJomVX",
        "outputId": "22b2b803-6084-4fd4-d2e7-97ed176602be"
      },
      "outputs": [],
      "source": [
        "save_weights(\"arch1_unfreeze_all.pt\")"
      ]
    },
    {
      "cell_type": "code",
      "execution_count": null,
      "metadata": {
        "colab": {
          "base_uri": "https://localhost:8080/"
        },
        "id": "bIC6Q5Ydiu6B",
        "outputId": "73792ced-841c-41e4-e772-adaa5340bfc2"
      },
      "outputs": [],
      "source": [
        "collect()"
      ]
    },
    {
      "cell_type": "code",
      "execution_count": null,
      "metadata": {
        "colab": {
          "base_uri": "https://localhost:8080/"
        },
        "id": "LPTZ3RX7wwgh",
        "outputId": "9bf5f10b-fc17-4eb8-9542-e9dee59ce4bf"
      },
      "outputs": [],
      "source": [
        "loss.item()"
      ]
    },
    {
      "cell_type": "markdown",
      "metadata": {
        "id": "2tO9IGuBti3S"
      },
      "source": [
        "### Validation & Visualize"
      ]
    },
    {
      "cell_type": "code",
      "execution_count": null,
      "metadata": {
        "id": "UwFTSVmGzSpt"
      },
      "outputs": [],
      "source": [
        "testDL = get_dataloader(plurk_test, bs, True)"
      ]
    },
    {
      "cell_type": "code",
      "execution_count": null,
      "metadata": {
        "id": "xyO2QlHMvXN7"
      },
      "outputs": [],
      "source": [
        "test_loss = []\n",
        "test_val_pred = []"
      ]
    },
    {
      "cell_type": "code",
      "execution_count": null,
      "metadata": {
        "id": "8OArZknDtwjL"
      },
      "outputs": [],
      "source": [
        "with torch.no_grad():\n",
        "  model.eval()\n",
        "  # test set\n",
        "  for i, batch_ in enumerate(testDL):\n",
        "    # (x, attn), tensor([V, A])\n",
        "    (x, attn), y = batch_\n",
        "    \n",
        "    # output: [V, A]\n",
        "    output = model.forward((x.to(device), attn.to(device)))\n",
        "    loss = criterion(output, y.to(device))\n",
        "\n",
        "    # test loss\n",
        "    test_loss.append(loss.item())\n",
        "\n",
        "    # and collect the prediction result\n",
        "    # [prediction, label] for future indexing\n",
        "    test_val_pred.append([output, y])\n",
        "\n",
        "  # on val set\n",
        "  for i, batch_ in enumerate(valDL):\n",
        "    # (x, attn), tensor([V, A])\n",
        "    (x, attn), y = batch_\n",
        "    \n",
        "    test_val_pred.append([output, y])\n"
      ]
    },
    {
      "cell_type": "code",
      "execution_count": null,
      "metadata": {
        "colab": {
          "base_uri": "https://localhost:8080/"
        },
        "id": "YVPzI7HTx_OB",
        "outputId": "d1038071-784a-4f95-cb71-82346c47a1a5"
      },
      "outputs": [],
      "source": [
        "# one can change the y_lim argument here, or just use matplotlib to do what you want will work, too\n",
        "plotit([test_loss], [\"test\"], y_lim=0.02, figsize=(12,8))"
      ]
    },
    {
      "cell_type": "code",
      "execution_count": null,
      "metadata": {
        "colab": {
          "base_uri": "https://localhost:8080/"
        },
        "id": "UhyVhzZlvr86",
        "outputId": "ab92c16e-9871-45bf-e131-2d9fe3f88965"
      },
      "outputs": [],
      "source": [
        "plotit([train_loss, val_loss, test_loss], [\"train_loss\", \"val_loss\", \"test_loss\"])"
      ]
    },
    {
      "cell_type": "markdown",
      "metadata": {
        "id": "_xffJm1uwCDT"
      },
      "source": [
        "## Scatter plots"
      ]
    },
    {
      "cell_type": "code",
      "execution_count": null,
      "metadata": {
        "id": "XeP_jStwwAjZ"
      },
      "outputs": [],
      "source": [
        "def sct(inp_L, legends=None, figsize=(15,10)):\n",
        "  plt.figure(figsize=figsize)\n",
        "\n",
        "  for inp in inp_L:\n",
        "    idxs = inp[0]\n",
        "    x_arr = inp[1]\n",
        "    y_arr = inp[2]\n",
        "    plt.scatter(x_arr, y_arr)\n",
        "    for lb, x, y in zip(idxs, x_arr, y_arr):\n",
        "      plt.annotate(lb, xy=(x,y))\n",
        "\n",
        "  if legends is not None and isinstance(legends, list):\n",
        "    plt.legend(legends)\n",
        "  \n",
        "  plt.show()\n"
      ]
    },
    {
      "cell_type": "markdown",
      "metadata": {
        "id": "UsS15Vo20-LH"
      },
      "source": [
        "### change test_val_pred into predictions and labels\n",
        "### predictions: list of predicted tensor([V,A])\n",
        "### labels: list of label tensor([V,A]), useful in indexing (so that we know which of the emotions are more easy to predict)\n"
      ]
    },
    {
      "cell_type": "code",
      "execution_count": null,
      "metadata": {
        "colab": {
          "base_uri": "https://localhost:8080/"
        },
        "id": "Cmop_EBb0gLZ",
        "outputId": "e389d8a3-8a48-4d9b-96cb-d747e93f9aac"
      },
      "outputs": [],
      "source": [
        "len(test_val_pred), len(valDL), len(testDL)"
      ]
    },
    {
      "cell_type": "code",
      "execution_count": null,
      "metadata": {
        "colab": {
          "base_uri": "https://localhost:8080/"
        },
        "id": "TMacICdGy01_",
        "outputId": "1138bb96-a1c3-415b-d29f-3929169c98b6"
      },
      "outputs": [],
      "source": [
        "\"process test_val_pred\"\n",
        "\"list of [prediction, label]\"\n",
        "\"prediction: [tensor (of bs=16)]\"\n",
        "\"tensor (of bs=16): tensor([V,A]\"\n",
        "type(test_val_pred), type(test_val_pred[0]), type(test_val_pred[0][0])"
      ]
    },
    {
      "cell_type": "code",
      "execution_count": null,
      "metadata": {
        "colab": {
          "base_uri": "https://localhost:8080/"
        },
        "id": "IdjrNXCB31PU",
        "outputId": "a8efb039-ac5b-4598-85df-90ad1f8c3022"
      },
      "outputs": [],
      "source": [
        "# [predict, label]\n",
        "test_val_pred[0]"
      ]
    },
    {
      "cell_type": "code",
      "execution_count": null,
      "metadata": {
        "colab": {
          "base_uri": "https://localhost:8080/"
        },
        "id": "95GKxaBIzDEU",
        "outputId": "3ca90b89-687a-4902-f485-620978a1d79f"
      },
      "outputs": [],
      "source": [
        "# [V,A]\n",
        "test_val_pred[0][0]"
      ]
    },
    {
      "cell_type": "code",
      "execution_count": null,
      "metadata": {
        "id": "_X4GHw5f4Nf9"
      },
      "outputs": [],
      "source": [
        "\"list of [V,A]\"\n",
        "_predictions = []\n",
        "_labels = []\n",
        "\n",
        "for ele in test_val_pred:\n",
        "  _predictions.append(ele[0])\n",
        "  _labels.append(ele[1])\n"
      ]
    },
    {
      "cell_type": "code",
      "execution_count": null,
      "metadata": {
        "colab": {
          "base_uri": "https://localhost:8080/"
        },
        "id": "t-Qe_lvK6TvM",
        "outputId": "67e852bc-1762-4896-8d6b-556dbcf62532"
      },
      "outputs": [],
      "source": [
        "len(_predictions), len(_labels), len(test_val_pred)"
      ]
    },
    {
      "cell_type": "code",
      "execution_count": null,
      "metadata": {
        "colab": {
          "base_uri": "https://localhost:8080/"
        },
        "id": "548YpRfI4bLZ",
        "outputId": "98affd11-f0cd-4616-b618-74136e27ada6"
      },
      "outputs": [],
      "source": [
        "_predictions[0]"
      ]
    },
    {
      "cell_type": "code",
      "execution_count": null,
      "metadata": {
        "id": "S485MmrM4oJe"
      },
      "outputs": [],
      "source": [
        "\"dict of v_list, a_list\"\n",
        "predictions = {\"V_norm\": [], \"A_norm\": []}\n",
        "\n",
        "# _p: batch of tensor [V,A]\n",
        "for _p in _predictions:\n",
        "  # each tensor in batch\n",
        "  for _t in _p:\n",
        "    _v, _a = _t[0], _t[1]\n",
        "    predictions[\"V_norm\"].append(float(_v))\n",
        "    predictions[\"A_norm\"].append(float(_a))\n"
      ]
    },
    {
      "cell_type": "code",
      "execution_count": null,
      "metadata": {
        "colab": {
          "base_uri": "https://localhost:8080/"
        },
        "id": "h-qJyYfS55mu",
        "outputId": "2faa06ba-5599-49c9-cf88-4f231ee518b1"
      },
      "outputs": [],
      "source": [
        "len(test_val_pred),len(test_val_pred[0]),len(test_val_pred[0][0])"
      ]
    },
    {
      "cell_type": "code",
      "execution_count": null,
      "metadata": {
        "colab": {
          "base_uri": "https://localhost:8080/"
        },
        "id": "iFncZwYZ6D_J",
        "outputId": "2adfbd86-bd74-4a50-d206-d5128a8a35b2"
      },
      "outputs": [],
      "source": [
        "len(_predictions)"
      ]
    },
    {
      "cell_type": "code",
      "execution_count": null,
      "metadata": {
        "colab": {
          "base_uri": "https://localhost:8080/"
        },
        "id": "JLSVoxPx5xw2",
        "outputId": "3d6a7c29-ef37-4717-dd4d-63d4f92af73d"
      },
      "outputs": [],
      "source": [
        "329*16"
      ]
    },
    {
      "cell_type": "code",
      "execution_count": null,
      "metadata": {
        "colab": {
          "base_uri": "https://localhost:8080/"
        },
        "id": "V-IzYJ7C6mZh",
        "outputId": "b123b214-f2fd-4115-ddca-29df15e117c6"
      },
      "outputs": [],
      "source": [
        "len(testDL), len(valDL)"
      ]
    },
    {
      "cell_type": "code",
      "execution_count": null,
      "metadata": {
        "colab": {
          "base_uri": "https://localhost:8080/"
        },
        "id": "elRyC_OT5pk-",
        "outputId": "c4ded305-4989-4173-bb28-d08f38657aef"
      },
      "outputs": [],
      "source": [
        "# since we resample valDL, the length won't simply = len(val_pred_test)*bs\n",
        "len(predictions[\"V_norm\"])"
      ]
    },
    {
      "cell_type": "code",
      "execution_count": null,
      "metadata": {
        "colab": {
          "base_uri": "https://localhost:8080/"
        },
        "id": "WY88QbA76O-Z",
        "outputId": "9bec4aa9-f01b-4c08-be6b-825263134d37"
      },
      "outputs": [],
      "source": [
        "\"Also\"\n",
        "\"dict of v_list, a_list\"\n",
        "labels = {\"V_norm\": [], \"A_norm\": []}\n",
        "\n",
        "# _p: batch of tensor [V,A]\n",
        "for _p in _labels:\n",
        "  # each tensor in batch\n",
        "  for _t in _p:\n",
        "    _v, _a = _t[0], _t[1]\n",
        "    labels[\"V_norm\"].append(float(_v))\n",
        "    labels[\"A_norm\"].append(float(_a))\n",
        "\n",
        "len(labels[\"V_norm\"])"
      ]
    },
    {
      "cell_type": "code",
      "execution_count": null,
      "metadata": {
        "colab": {
          "base_uri": "https://localhost:8080/"
        },
        "id": "fNF4W8-w1Xd8",
        "outputId": "de47ffdf-caac-45bb-d8b9-9f46e424a7b5"
      },
      "outputs": [],
      "source": [
        "collect()"
      ]
    },
    {
      "cell_type": "code",
      "execution_count": null,
      "metadata": {
        "colab": {
          "base_uri": "https://localhost:8080/"
        },
        "id": "Qm7fdXSl0IlJ",
        "outputId": "4dbebb5f-557d-44e9-a032-0f810fde3a34"
      },
      "outputs": [],
      "source": [
        "face_va.head()"
      ]
    },
    {
      "cell_type": "code",
      "execution_count": null,
      "metadata": {
        "colab": {
          "base_uri": "https://localhost:8080/"
        },
        "id": "Rwap8SUQzyPA",
        "outputId": "1720524b-39b3-4025-84eb-f7c6022e1dca"
      },
      "outputs": [],
      "source": [
        "\"USE labels\"\n",
        "\"get index and we're done\"\n",
        "\"refer to label -> face_va\"\n"
      ]
    },
    {
      "cell_type": "code",
      "execution_count": null,
      "metadata": {
        "colab": {
          "base_uri": "https://localhost:8080/"
        },
        "id": "16LSvkLJz9NG",
        "outputId": "fd10e23c-5ec5-46b1-f9da-43fbd94568d6"
      },
      "outputs": [],
      "source": [
        "list(range(len(labels[\"A_norm\"])))[:10]"
      ]
    },
    {
      "cell_type": "code",
      "execution_count": null,
      "metadata": {
        "colab": {
          "base_uri": "https://localhost:8080/"
        },
        "id": "-_RYV_e09yEq",
        "outputId": "e9c23922-47ee-44d3-c604-92245895a634"
      },
      "outputs": [],
      "source": [
        "face_va.head()"
      ]
    },
    {
      "cell_type": "markdown",
      "metadata": {
        "id": "f_YyVVB0-zKc"
      },
      "source": [
        "## indicies done !"
      ]
    },
    {
      "cell_type": "code",
      "execution_count": null,
      "metadata": {
        "id": "iIjN5bo9--lH"
      },
      "outputs": [],
      "source": [
        "\"answers!\"\n",
        "V = list(face_va[\"V_norm\"])\n",
        "A = list(face_va[\"A_norm\"])"
      ]
    },
    {
      "cell_type": "code",
      "execution_count": null,
      "metadata": {
        "id": "Efna4fNU_HP-"
      },
      "outputs": [],
      "source": [
        "\"use labels to do indexing\"\n",
        "tt = labels[\"V_norm\"][0]"
      ]
    },
    {
      "cell_type": "code",
      "execution_count": null,
      "metadata": {
        "colab": {
          "base_uri": "https://localhost:8080/"
        },
        "id": "03dKE2P5_HCa",
        "outputId": "d66044c5-11f8-45db-caa1-9583cf69e489"
      },
      "outputs": [],
      "source": [
        "tt"
      ]
    },
    {
      "cell_type": "code",
      "execution_count": null,
      "metadata": {
        "colab": {
          "base_uri": "https://localhost:8080/"
        },
        "id": "eCAe1dd8_cBx",
        "outputId": "ef7dd932-70a8-40d1-b8ad-7f0722a04db1"
      },
      "outputs": [],
      "source": [
        "\"V.index(tt) # this will throw and error\"\n",
        "\"-> use string to do the index\"\n",
        "\"map the answers\"\n",
        "V_s = [\"%.6f\" % (ele) for ele in V]\n",
        "A_s = [\"%.6f\" % (ele) for ele in A]\n",
        "\n",
        "\"map the labels as well\"\n",
        "\"(we only need one TBH, the other is used to check the answer)\"\n",
        "labels_V_s = [\"%.6f\"%(ele) for ele in labels[\"V_norm\"]]\n",
        "labels_A_s = [\"%.6f\"%(ele) for ele in labels[\"A_norm\"]]\n",
        "\n",
        "len(labels_V_s) == len(labels_A_s)"
      ]
    },
    {
      "cell_type": "code",
      "execution_count": null,
      "metadata": {
        "id": "APx6_mLZAMRY"
      },
      "outputs": [],
      "source": [
        "\"we use V as index, since 0.920755 appeared twice in A\"\n",
        "idxs = [V_s.index(ele) for ele in labels_V_s]"
      ]
    },
    {
      "cell_type": "code",
      "execution_count": null,
      "metadata": {
        "colab": {
          "base_uri": "https://localhost:8080/"
        },
        "id": "sav39XxRyZYQ",
        "outputId": "e823ed27-bba5-41e2-9b6e-8787048d8f94"
      },
      "outputs": [],
      "source": [
        "plt.figure(figsize=(12,8))\n",
        "x_arr = V\n",
        "y_arr = A\n",
        "plt.scatter(x_arr,y_arr)\n",
        "\n",
        "for lb, x, y in zip(list(range(len(x_arr))), x_arr, y_arr):\n",
        "  plt.annotate(lb, xy=(x,y))\n",
        "\n",
        "plt.legend([\"labels\"])\n",
        "plt.show()"
      ]
    },
    {
      "cell_type": "code",
      "execution_count": null,
      "metadata": {
        "colab": {
          "base_uri": "https://localhost:8080/"
        },
        "id": "mPU3ndcKDq06",
        "outputId": "8c6d1724-3491-44ef-f18e-e09e584a6483"
      },
      "outputs": [],
      "source": [
        "face_va.loc[[1]]"
      ]
    },
    {
      "cell_type": "code",
      "execution_count": null,
      "metadata": {
        "colab": {
          "base_uri": "https://localhost:8080/"
        },
        "id": "x8zcaIgVE4HH",
        "outputId": "80dcfb9a-8c31-4bb0-cdcd-8e1f2d679e70"
      },
      "outputs": [],
      "source": [
        "face_va[[\"face\", \"V_norm\", \"A_norm\"]].loc[[3]]"
      ]
    },
    {
      "cell_type": "code",
      "execution_count": null,
      "metadata": {
        "id": "1UyeBwkdEw3M"
      },
      "outputs": [],
      "source": []
    },
    {
      "cell_type": "code",
      "execution_count": null,
      "metadata": {
        "colab": {
          "base_uri": "https://localhost:8080/"
        },
        "id": "vJ8a0J6SyrLo",
        "outputId": "e9e5ff3b-b220-4797-944a-f87177777f25"
      },
      "outputs": [],
      "source": [
        "plt.figure(figsize=(12,8))\n",
        "x_arr = predictions[\"V_norm\"][:60]\n",
        "y_arr = predictions[\"A_norm\"][:60]\n",
        "plt.scatter(x_arr,y_arr)\n",
        "\n",
        "for lb, x, y in zip(idxs, x_arr, y_arr):\n",
        "  plt.annotate(lb, xy=(x,y))\n",
        "\n",
        "plt.legend([\"predictions (part of)\"])\n",
        "plt.show()"
      ]
    },
    {
      "cell_type": "code",
      "execution_count": null,
      "metadata": {
        "colab": {
          "base_uri": "https://localhost:8080/"
        },
        "id": "IHL2PVbo-bMi",
        "outputId": "b95849a2-18e5-4c01-9bb5-daa7d67fc92b"
      },
      "outputs": [],
      "source": [
        "face_va[[\"face\",\"V_norm\",\"A_norm\"]].loc[[18, 15, 42]]"
      ]
    },
    {
      "cell_type": "markdown",
      "metadata": {
        "id": "pheZfLJXDVtU"
      },
      "source": [
        "## Combined!"
      ]
    },
    {
      "cell_type": "code",
      "execution_count": null,
      "metadata": {
        "colab": {
          "base_uri": "https://localhost:8080/"
        },
        "id": "Cpl1gzYgC_9Y",
        "outputId": "9b361c3a-676a-457c-b8ed-9b605369d116"
      },
      "outputs": [],
      "source": [
        "plt.figure(figsize=(15,10))\n",
        "\n",
        "x_arr = predictions[\"V_norm\"][:60]\n",
        "y_arr = predictions[\"A_norm\"][:60]\n",
        "plt.scatter(x_arr,y_arr)\n",
        "\n",
        "for lb, x, y in zip(idxs, x_arr, y_arr):\n",
        "  plt.annotate(lb, xy=(x,y))\n",
        "\n",
        "\n",
        "x_arr = V\n",
        "y_arr = A\n",
        "plt.scatter(x_arr,y_arr)\n",
        "\n",
        "for lb, x, y in zip(list(range(len(x_arr))), x_arr, y_arr):\n",
        "  plt.annotate(lb, xy=(x,y))\n",
        "\n",
        "plt.legend([\"predictions (part of)\", \"labels\"])\n",
        "plt.title(\"predictions vs labels\")\n",
        "plt.show()"
      ]
    },
    {
      "cell_type": "code",
      "execution_count": null,
      "metadata": {
        "colab": {
          "base_uri": "https://localhost:8080/"
        },
        "id": "dBOk81RhEFm_",
        "outputId": "87aae6c5-a16a-41fe-cff3-757e0601200c"
      },
      "outputs": [],
      "source": [
        "plt.figure(figsize=(12,8))\n",
        "x_arr = V\n",
        "y_arr = A\n",
        "plt.scatter(x_arr,y_arr)\n",
        "\n",
        "for lb, x, y in zip(list(range(len(x_arr))), x_arr, y_arr):\n",
        "  plt.annotate(lb, xy=(x,y))\n",
        "\n",
        "plt.legend([\"labels\"])\n",
        "plt.show()"
      ]
    },
    {
      "cell_type": "code",
      "execution_count": null,
      "metadata": {
        "colab": {
          "base_uri": "https://localhost:8080/"
        },
        "id": "H369htaYGVpi",
        "outputId": "4da6be01-2437-4416-da55-778135877928"
      },
      "outputs": [],
      "source": [
        "\"ALL\"\n",
        "plt.figure(figsize=(21,14))\n",
        "\n",
        "x_arr = predictions[\"V_norm\"]\n",
        "y_arr = predictions[\"A_norm\"]\n",
        "plt.scatter(x_arr,y_arr)\n",
        "\n",
        "for lb, x, y in zip(idxs, x_arr, y_arr):\n",
        "  plt.annotate(lb, xy=(x,y))\n",
        "\n",
        "\n",
        "x_arr = V\n",
        "y_arr = A\n",
        "plt.scatter(x_arr,y_arr)\n",
        "\n",
        "for lb, x, y in zip(list(range(len(x_arr))), x_arr, y_arr):\n",
        "  plt.annotate(lb, xy=(x,y))\n",
        "\n",
        "plt.legend([\"predictions\", \"labels\"])\n",
        "plt.title(\"ALL predictions vs labels\")\n",
        "plt.show()"
      ]
    },
    {
      "cell_type": "code",
      "execution_count": null,
      "metadata": {
        "colab": {
          "base_uri": "https://localhost:8080/"
        },
        "id": "6Zduxg64JpD4",
        "outputId": "35157699-fbae-43d0-e3f7-f33cba37dbfc"
      },
      "outputs": [],
      "source": [
        "face_va[[\"face\", \"V_norm\", \"A_norm\"]].loc[[27, 23, 30]]"
      ]
    },
    {
      "cell_type": "code",
      "execution_count": null,
      "metadata": {
        "colab": {
          "base_uri": "https://localhost:8080/"
        },
        "id": "HOKU5u7qHX2m",
        "outputId": "c69a1f95-9347-4c6d-93ae-5b034e1d865c"
      },
      "outputs": [],
      "source": [
        "plt.figure(figsize=(21,14))\n",
        "x_arr = V\n",
        "y_arr = A\n",
        "plt.scatter(x_arr,y_arr)\n",
        "\n",
        "for lb, x, y in zip(list(range(len(x_arr))), x_arr, y_arr):\n",
        "  plt.annotate(lb, xy=(x,y))\n",
        "\n",
        "plt.legend([\"labels\"])\n",
        "plt.show()"
      ]
    },
    {
      "cell_type": "markdown",
      "metadata": {
        "id": "u0RWaEeCKcJ_"
      },
      "source": [
        "## Notice that we didn't have all 74 emotions in our dataset\n",
        "### , so, don't print the answers that are not in the scope"
      ]
    },
    {
      "cell_type": "code",
      "execution_count": null,
      "metadata": {
        "colab": {
          "base_uri": "https://localhost:8080/"
        },
        "id": "CTHcwnlaILYu",
        "outputId": "dbaf09ac-ae5c-4274-d1ee-5125fa9d6b5a"
      },
      "outputs": [],
      "source": [
        "len(FVA.keys())"
      ]
    },
    {
      "cell_type": "code",
      "execution_count": null,
      "metadata": {
        "colab": {
          "base_uri": "https://localhost:8080/"
        },
        "id": "T_a1Wt_QKqRb",
        "outputId": "af60cfab-c8e9-4fe2-fc98-0b4c1a0b0b50"
      },
      "outputs": [],
      "source": [
        "len(file_dict.keys())"
      ]
    },
    {
      "cell_type": "code",
      "execution_count": null,
      "metadata": {
        "colab": {
          "base_uri": "https://localhost:8080/",
          "height": 424
        },
        "id": "HhPEXgSlKvPO",
        "outputId": "f20b2c4c-58f2-429e-b591-807f24bf98c7"
      },
      "outputs": [],
      "source": [
        "TO_PRINT = list(file_dict.keys())\n",
        "face_va[[\"face\"]]#.loc[TO_PRINT]"
      ]
    },
    {
      "cell_type": "code",
      "execution_count": null,
      "metadata": {
        "colab": {
          "base_uri": "https://localhost:8080/"
        },
        "id": "ztTHXNmoLsKh",
        "outputId": "099dd5ab-dda0-4fed-d1af-fa49c37450d4"
      },
      "outputs": [],
      "source": [
        "TO_PRINT"
      ]
    },
    {
      "cell_type": "code",
      "execution_count": null,
      "metadata": {
        "colab": {
          "base_uri": "https://localhost:8080/"
        },
        "id": "Kbhd5BQsL73H",
        "outputId": "cd9db540-a755-4740-b103-820cb7a77c06"
      },
      "outputs": [],
      "source": [
        "refff = list(face_va[\"face\"])\n",
        "refff[:3]"
      ]
    },
    {
      "cell_type": "markdown",
      "metadata": {
        "id": "IisTm6qYK-PT"
      },
      "source": [
        "#### If there we're key error, just keep running the next cell and you're still fine"
      ]
    },
    {
      "cell_type": "code",
      "execution_count": null,
      "metadata": {
        "colab": {
          "base_uri": "https://localhost:8080/",
          "height": 219
        },
        "id": "6cuAU4wxLPsa",
        "outputId": "1949f415-18a3-4ba4-c449-0e04574a5ae4"
      },
      "outputs": [],
      "source": [
        "face_to_print = []\n",
        "for ele in TO_PRINT:\n",
        "  if ele == \"perserveringface\":\n",
        "    ele = \"perseveringface\"\n",
        "  elif ele == \"tired\" or ele == \"relieved\":\n",
        "    ele += \"face\"\n",
        "  elif ele == \"starstruck\":\n",
        "    ele = \"star-struck\"\n",
        "    \n",
        "  face_to_print.append(refff.index(ele))\n",
        "len(face_to_print)"
      ]
    },
    {
      "cell_type": "code",
      "execution_count": null,
      "metadata": {
        "colab": {
          "base_uri": "https://localhost:8080/",
          "height": 499
        },
        "id": "wvp4FtCzK8tA",
        "outputId": "a3126d9b-a618-44b8-ce0f-0c165ec00492"
      },
      "outputs": [],
      "source": [
        "plt.figure(figsize=(12,8))\n",
        "x_arr = [V[e] for e in face_to_print]\n",
        "y_arr = [A[e] for e in face_to_print]\n",
        "\n",
        "plt.scatter(x_arr,y_arr)\n",
        "\n",
        "for lb, x, y in zip(face_to_print, x_arr, y_arr):\n",
        "  plt.annotate(lb, xy=(x,y))\n",
        "\n",
        "plt.legend([\"labels\"])\n",
        "plt.title(\"Face that appeared in our DS\")\n",
        "plt.show()"
      ]
    },
    {
      "cell_type": "code",
      "execution_count": null,
      "metadata": {
        "colab": {
          "base_uri": "https://localhost:8080/",
          "height": 607
        },
        "id": "0elf5A89N8nP",
        "outputId": "b15c4244-91e8-4c31-c9bf-75f501202206"
      },
      "outputs": [],
      "source": [
        "\"face that appeared + part of prediction\"\n",
        "\"ALL\"\n",
        "plt.figure(figsize=(15,10))\n",
        "\n",
        "x_arr = predictions[\"V_norm\"][:60]\n",
        "y_arr = predictions[\"A_norm\"][:60]\n",
        "plt.scatter(x_arr,y_arr)\n",
        "\n",
        "for lb, x, y in zip(idxs, x_arr, y_arr):\n",
        "  plt.annotate(lb, xy=(x,y))\n",
        "\n",
        "x_arr = [V[e] for e in face_to_print]\n",
        "y_arr = [A[e] for e in face_to_print]\n",
        "\n",
        "plt.scatter(x_arr,y_arr)\n",
        "\n",
        "for lb, x, y in zip(face_to_print, x_arr, y_arr):\n",
        "  plt.annotate(lb, xy=(x,y))\n",
        "\n",
        "plt.legend([\"part of predictions\", \"labels\"])\n",
        "plt.title(\"Face that appeared in our DS\")\n",
        "plt.show()\n"
      ]
    },
    {
      "cell_type": "code",
      "execution_count": null,
      "metadata": {
        "colab": {
          "base_uri": "https://localhost:8080/",
          "height": 175
        },
        "id": "W0UnomAyOgEX",
        "outputId": "664f6a7e-74ec-48cd-8012-3d22507b4590"
      },
      "outputs": [],
      "source": [
        "\"查表: 查答案的座標\"\n",
        "face_va[[\"face\", \"V_norm\", \"A_norm\"]].loc[[36, 45, 57, 0]]"
      ]
    },
    {
      "cell_type": "code",
      "execution_count": null,
      "metadata": {
        "id": "YwGMwROCAXt6"
      },
      "outputs": [],
      "source": []
    }
  ],
  "metadata": {
    "accelerator": "GPU",
    "colab": {
      "collapsed_sections": [
        "1y26QrDLjaqC",
        "rUtSKRRcuUo8",
        "f8_4lHjcvJoF",
        "RFa2pUXcvYWa",
        "dw29ZqVzvbzp",
        "TCmYXkDHvaJU",
        "af1t9H_Av4jH",
        "n6Ps8H1qwBdO",
        "adzTnRoxQUDG",
        "gtX5JkGsUVlI",
        "ebKcXm7oiHoa",
        "6YswDYHgjdfj",
        "2tO9IGuBti3S",
        "_xffJm1uwCDT",
        "UsS15Vo20-LH",
        "f_YyVVB0-zKc",
        "pheZfLJXDVtU"
      ],
      "provenance": []
    },
    "gpuClass": "standard",
    "kernelspec": {
      "display_name": "Python 3.7.9 64-bit",
      "language": "python",
      "name": "python3"
    },
    "language_info": {
      "name": "python",
      "version": "3.7.9"
    },
    "vscode": {
      "interpreter": {
        "hash": "c56cc201f676f664f151ba484ed4943d7f34dbf6a5c25e8d66425f202492a767"
      }
    },
    "widgets": {
      "application/vnd.jupyter.widget-state+json": {
        "0548f3feba554187af246d87713ce5ea": {
          "model_module": "@jupyter-widgets/controls",
          "model_module_version": "1.5.0",
          "model_name": "DescriptionStyleModel",
          "state": {
            "_model_module": "@jupyter-widgets/controls",
            "_model_module_version": "1.5.0",
            "_model_name": "DescriptionStyleModel",
            "_view_count": null,
            "_view_module": "@jupyter-widgets/base",
            "_view_module_version": "1.2.0",
            "_view_name": "StyleView",
            "description_width": ""
          }
        },
        "0af79228f2864bb89ddf134a3e6594da": {
          "model_module": "@jupyter-widgets/controls",
          "model_module_version": "1.5.0",
          "model_name": "HTMLModel",
          "state": {
            "_dom_classes": [],
            "_model_module": "@jupyter-widgets/controls",
            "_model_module_version": "1.5.0",
            "_model_name": "HTMLModel",
            "_view_count": null,
            "_view_module": "@jupyter-widgets/controls",
            "_view_module_version": "1.5.0",
            "_view_name": "HTMLView",
            "description": "",
            "description_tooltip": null,
            "layout": "IPY_MODEL_4d6e30b4232249c1aae713a2fcdb767a",
            "placeholder": "​",
            "style": "IPY_MODEL_cab98e55ec0d420facc2265ce8d7d2f6",
            "value": "Downloading merges.txt: 100%"
          }
        },
        "133690c1d4594f8dbfd3c4f357477fcb": {
          "model_module": "@jupyter-widgets/controls",
          "model_module_version": "1.5.0",
          "model_name": "HTMLModel",
          "state": {
            "_dom_classes": [],
            "_model_module": "@jupyter-widgets/controls",
            "_model_module_version": "1.5.0",
            "_model_name": "HTMLModel",
            "_view_count": null,
            "_view_module": "@jupyter-widgets/controls",
            "_view_module_version": "1.5.0",
            "_view_name": "HTMLView",
            "description": "",
            "description_tooltip": null,
            "layout": "IPY_MODEL_edfd68cbb8bb4376a6f2722eac797d42",
            "placeholder": "​",
            "style": "IPY_MODEL_75a218121ebb4bc2922ed50f7bfa84f5",
            "value": "Downloading tokenizer.json: 100%"
          }
        },
        "1aa3c30482e14209b035a6667fc39d3d": {
          "model_module": "@jupyter-widgets/controls",
          "model_module_version": "1.5.0",
          "model_name": "HBoxModel",
          "state": {
            "_dom_classes": [],
            "_model_module": "@jupyter-widgets/controls",
            "_model_module_version": "1.5.0",
            "_model_name": "HBoxModel",
            "_view_count": null,
            "_view_module": "@jupyter-widgets/controls",
            "_view_module_version": "1.5.0",
            "_view_name": "HBoxView",
            "box_style": "",
            "children": [
              "IPY_MODEL_cab53cb021054a9eab28a836b9bc5d4a",
              "IPY_MODEL_7d4495dcf69640dfac987a6a009680e6",
              "IPY_MODEL_e85b2bab7b44469ca536e61279347f72"
            ],
            "layout": "IPY_MODEL_79ed8235dfcd477fa314c30c4a54ed08"
          }
        },
        "1c34fc04c5254773afb95ef4dad0db49": {
          "model_module": "@jupyter-widgets/controls",
          "model_module_version": "1.5.0",
          "model_name": "HTMLModel",
          "state": {
            "_dom_classes": [],
            "_model_module": "@jupyter-widgets/controls",
            "_model_module_version": "1.5.0",
            "_model_name": "HTMLModel",
            "_view_count": null,
            "_view_module": "@jupyter-widgets/controls",
            "_view_module_version": "1.5.0",
            "_view_name": "HTMLView",
            "description": "",
            "description_tooltip": null,
            "layout": "IPY_MODEL_bf690e65e3b9445e843f0b8ac47c5d4a",
            "placeholder": "​",
            "style": "IPY_MODEL_a32976d0a49e40fe8333f8741e8e4649",
            "value": "Downloading vocab.json: 100%"
          }
        },
        "2fdb0e69e4dc4bf89144d2e40988449b": {
          "model_module": "@jupyter-widgets/controls",
          "model_module_version": "1.5.0",
          "model_name": "DescriptionStyleModel",
          "state": {
            "_model_module": "@jupyter-widgets/controls",
            "_model_module_version": "1.5.0",
            "_model_name": "DescriptionStyleModel",
            "_view_count": null,
            "_view_module": "@jupyter-widgets/base",
            "_view_module_version": "1.2.0",
            "_view_name": "StyleView",
            "description_width": ""
          }
        },
        "30027defe3f74178867ce96caadb6292": {
          "model_module": "@jupyter-widgets/controls",
          "model_module_version": "1.5.0",
          "model_name": "HTMLModel",
          "state": {
            "_dom_classes": [],
            "_model_module": "@jupyter-widgets/controls",
            "_model_module_version": "1.5.0",
            "_model_name": "HTMLModel",
            "_view_count": null,
            "_view_module": "@jupyter-widgets/controls",
            "_view_module_version": "1.5.0",
            "_view_name": "HTMLView",
            "description": "",
            "description_tooltip": null,
            "layout": "IPY_MODEL_c7b3ef68170548c19a94a454c5158f0a",
            "placeholder": "​",
            "style": "IPY_MODEL_e08186fbf84445aaa7ef267ce960379b",
            "value": "Downloading pytorch_model.bin: 100%"
          }
        },
        "327f73127e174c748bcde3b3f3b3ed7c": {
          "model_module": "@jupyter-widgets/base",
          "model_module_version": "1.2.0",
          "model_name": "LayoutModel",
          "state": {
            "_model_module": "@jupyter-widgets/base",
            "_model_module_version": "1.2.0",
            "_model_name": "LayoutModel",
            "_view_count": null,
            "_view_module": "@jupyter-widgets/base",
            "_view_module_version": "1.2.0",
            "_view_name": "LayoutView",
            "align_content": null,
            "align_items": null,
            "align_self": null,
            "border": null,
            "bottom": null,
            "display": null,
            "flex": null,
            "flex_flow": null,
            "grid_area": null,
            "grid_auto_columns": null,
            "grid_auto_flow": null,
            "grid_auto_rows": null,
            "grid_column": null,
            "grid_gap": null,
            "grid_row": null,
            "grid_template_areas": null,
            "grid_template_columns": null,
            "grid_template_rows": null,
            "height": null,
            "justify_content": null,
            "justify_items": null,
            "left": null,
            "margin": null,
            "max_height": null,
            "max_width": null,
            "min_height": null,
            "min_width": null,
            "object_fit": null,
            "object_position": null,
            "order": null,
            "overflow": null,
            "overflow_x": null,
            "overflow_y": null,
            "padding": null,
            "right": null,
            "top": null,
            "visibility": null,
            "width": null
          }
        },
        "4063ff72b24b47f391629682ca5779d3": {
          "model_module": "@jupyter-widgets/controls",
          "model_module_version": "1.5.0",
          "model_name": "HTMLModel",
          "state": {
            "_dom_classes": [],
            "_model_module": "@jupyter-widgets/controls",
            "_model_module_version": "1.5.0",
            "_model_name": "HTMLModel",
            "_view_count": null,
            "_view_module": "@jupyter-widgets/controls",
            "_view_module_version": "1.5.0",
            "_view_name": "HTMLView",
            "description": "",
            "description_tooltip": null,
            "layout": "IPY_MODEL_cefe9b714e304e46ab45aab0217d77e0",
            "placeholder": "​",
            "style": "IPY_MODEL_d3f1e12f2cb14ed7aac7ae4554fa6f39",
            "value": " 316M/316M [00:05&lt;00:00, 56.9MB/s]"
          }
        },
        "444a07625df24dc5b7660104f50bdfd2": {
          "model_module": "@jupyter-widgets/base",
          "model_module_version": "1.2.0",
          "model_name": "LayoutModel",
          "state": {
            "_model_module": "@jupyter-widgets/base",
            "_model_module_version": "1.2.0",
            "_model_name": "LayoutModel",
            "_view_count": null,
            "_view_module": "@jupyter-widgets/base",
            "_view_module_version": "1.2.0",
            "_view_name": "LayoutView",
            "align_content": null,
            "align_items": null,
            "align_self": null,
            "border": null,
            "bottom": null,
            "display": null,
            "flex": null,
            "flex_flow": null,
            "grid_area": null,
            "grid_auto_columns": null,
            "grid_auto_flow": null,
            "grid_auto_rows": null,
            "grid_column": null,
            "grid_gap": null,
            "grid_row": null,
            "grid_template_areas": null,
            "grid_template_columns": null,
            "grid_template_rows": null,
            "height": null,
            "justify_content": null,
            "justify_items": null,
            "left": null,
            "margin": null,
            "max_height": null,
            "max_width": null,
            "min_height": null,
            "min_width": null,
            "object_fit": null,
            "object_position": null,
            "order": null,
            "overflow": null,
            "overflow_x": null,
            "overflow_y": null,
            "padding": null,
            "right": null,
            "top": null,
            "visibility": null,
            "width": null
          }
        },
        "46480cd822cf492691b1ead4338340ee": {
          "model_module": "@jupyter-widgets/base",
          "model_module_version": "1.2.0",
          "model_name": "LayoutModel",
          "state": {
            "_model_module": "@jupyter-widgets/base",
            "_model_module_version": "1.2.0",
            "_model_name": "LayoutModel",
            "_view_count": null,
            "_view_module": "@jupyter-widgets/base",
            "_view_module_version": "1.2.0",
            "_view_name": "LayoutView",
            "align_content": null,
            "align_items": null,
            "align_self": null,
            "border": null,
            "bottom": null,
            "display": null,
            "flex": null,
            "flex_flow": null,
            "grid_area": null,
            "grid_auto_columns": null,
            "grid_auto_flow": null,
            "grid_auto_rows": null,
            "grid_column": null,
            "grid_gap": null,
            "grid_row": null,
            "grid_template_areas": null,
            "grid_template_columns": null,
            "grid_template_rows": null,
            "height": null,
            "justify_content": null,
            "justify_items": null,
            "left": null,
            "margin": null,
            "max_height": null,
            "max_width": null,
            "min_height": null,
            "min_width": null,
            "object_fit": null,
            "object_position": null,
            "order": null,
            "overflow": null,
            "overflow_x": null,
            "overflow_y": null,
            "padding": null,
            "right": null,
            "top": null,
            "visibility": null,
            "width": null
          }
        },
        "4930c85502eb4b27bc89f7500cf02bcf": {
          "model_module": "@jupyter-widgets/controls",
          "model_module_version": "1.5.0",
          "model_name": "ProgressStyleModel",
          "state": {
            "_model_module": "@jupyter-widgets/controls",
            "_model_module_version": "1.5.0",
            "_model_name": "ProgressStyleModel",
            "_view_count": null,
            "_view_module": "@jupyter-widgets/base",
            "_view_module_version": "1.2.0",
            "_view_name": "StyleView",
            "bar_color": null,
            "description_width": ""
          }
        },
        "4d6e30b4232249c1aae713a2fcdb767a": {
          "model_module": "@jupyter-widgets/base",
          "model_module_version": "1.2.0",
          "model_name": "LayoutModel",
          "state": {
            "_model_module": "@jupyter-widgets/base",
            "_model_module_version": "1.2.0",
            "_model_name": "LayoutModel",
            "_view_count": null,
            "_view_module": "@jupyter-widgets/base",
            "_view_module_version": "1.2.0",
            "_view_name": "LayoutView",
            "align_content": null,
            "align_items": null,
            "align_self": null,
            "border": null,
            "bottom": null,
            "display": null,
            "flex": null,
            "flex_flow": null,
            "grid_area": null,
            "grid_auto_columns": null,
            "grid_auto_flow": null,
            "grid_auto_rows": null,
            "grid_column": null,
            "grid_gap": null,
            "grid_row": null,
            "grid_template_areas": null,
            "grid_template_columns": null,
            "grid_template_rows": null,
            "height": null,
            "justify_content": null,
            "justify_items": null,
            "left": null,
            "margin": null,
            "max_height": null,
            "max_width": null,
            "min_height": null,
            "min_width": null,
            "object_fit": null,
            "object_position": null,
            "order": null,
            "overflow": null,
            "overflow_x": null,
            "overflow_y": null,
            "padding": null,
            "right": null,
            "top": null,
            "visibility": null,
            "width": null
          }
        },
        "4df9b180587a4e419fb7b1489cab172b": {
          "model_module": "@jupyter-widgets/base",
          "model_module_version": "1.2.0",
          "model_name": "LayoutModel",
          "state": {
            "_model_module": "@jupyter-widgets/base",
            "_model_module_version": "1.2.0",
            "_model_name": "LayoutModel",
            "_view_count": null,
            "_view_module": "@jupyter-widgets/base",
            "_view_module_version": "1.2.0",
            "_view_name": "LayoutView",
            "align_content": null,
            "align_items": null,
            "align_self": null,
            "border": null,
            "bottom": null,
            "display": null,
            "flex": null,
            "flex_flow": null,
            "grid_area": null,
            "grid_auto_columns": null,
            "grid_auto_flow": null,
            "grid_auto_rows": null,
            "grid_column": null,
            "grid_gap": null,
            "grid_row": null,
            "grid_template_areas": null,
            "grid_template_columns": null,
            "grid_template_rows": null,
            "height": null,
            "justify_content": null,
            "justify_items": null,
            "left": null,
            "margin": null,
            "max_height": null,
            "max_width": null,
            "min_height": null,
            "min_width": null,
            "object_fit": null,
            "object_position": null,
            "order": null,
            "overflow": null,
            "overflow_x": null,
            "overflow_y": null,
            "padding": null,
            "right": null,
            "top": null,
            "visibility": null,
            "width": null
          }
        },
        "4eb04154736a430f86bbd0508276bf58": {
          "model_module": "@jupyter-widgets/base",
          "model_module_version": "1.2.0",
          "model_name": "LayoutModel",
          "state": {
            "_model_module": "@jupyter-widgets/base",
            "_model_module_version": "1.2.0",
            "_model_name": "LayoutModel",
            "_view_count": null,
            "_view_module": "@jupyter-widgets/base",
            "_view_module_version": "1.2.0",
            "_view_name": "LayoutView",
            "align_content": null,
            "align_items": null,
            "align_self": null,
            "border": null,
            "bottom": null,
            "display": null,
            "flex": null,
            "flex_flow": null,
            "grid_area": null,
            "grid_auto_columns": null,
            "grid_auto_flow": null,
            "grid_auto_rows": null,
            "grid_column": null,
            "grid_gap": null,
            "grid_row": null,
            "grid_template_areas": null,
            "grid_template_columns": null,
            "grid_template_rows": null,
            "height": null,
            "justify_content": null,
            "justify_items": null,
            "left": null,
            "margin": null,
            "max_height": null,
            "max_width": null,
            "min_height": null,
            "min_width": null,
            "object_fit": null,
            "object_position": null,
            "order": null,
            "overflow": null,
            "overflow_x": null,
            "overflow_y": null,
            "padding": null,
            "right": null,
            "top": null,
            "visibility": null,
            "width": null
          }
        },
        "4f471f8017764855bf5742039fa1dca5": {
          "model_module": "@jupyter-widgets/controls",
          "model_module_version": "1.5.0",
          "model_name": "FloatProgressModel",
          "state": {
            "_dom_classes": [],
            "_model_module": "@jupyter-widgets/controls",
            "_model_module_version": "1.5.0",
            "_model_name": "FloatProgressModel",
            "_view_count": null,
            "_view_module": "@jupyter-widgets/controls",
            "_view_module_version": "1.5.0",
            "_view_name": "ProgressView",
            "bar_style": "success",
            "description": "",
            "description_tooltip": null,
            "layout": "IPY_MODEL_327f73127e174c748bcde3b3f3b3ed7c",
            "max": 1355863,
            "min": 0,
            "orientation": "horizontal",
            "style": "IPY_MODEL_ff83255734234dbf980593542dfc240c",
            "value": 1355863
          }
        },
        "5883bdd3bcc24e66998ce84ffc87d440": {
          "model_module": "@jupyter-widgets/controls",
          "model_module_version": "1.5.0",
          "model_name": "ProgressStyleModel",
          "state": {
            "_model_module": "@jupyter-widgets/controls",
            "_model_module_version": "1.5.0",
            "_model_name": "ProgressStyleModel",
            "_view_count": null,
            "_view_module": "@jupyter-widgets/base",
            "_view_module_version": "1.2.0",
            "_view_name": "StyleView",
            "bar_color": null,
            "description_width": ""
          }
        },
        "5aa8faa7dc99494b8251ab1ab275237c": {
          "model_module": "@jupyter-widgets/controls",
          "model_module_version": "1.5.0",
          "model_name": "FloatProgressModel",
          "state": {
            "_dom_classes": [],
            "_model_module": "@jupyter-widgets/controls",
            "_model_module_version": "1.5.0",
            "_model_name": "FloatProgressModel",
            "_view_count": null,
            "_view_module": "@jupyter-widgets/controls",
            "_view_module_version": "1.5.0",
            "_view_name": "ProgressView",
            "bar_style": "success",
            "description": "",
            "description_tooltip": null,
            "layout": "IPY_MODEL_4eb04154736a430f86bbd0508276bf58",
            "max": 331070498,
            "min": 0,
            "orientation": "horizontal",
            "style": "IPY_MODEL_5883bdd3bcc24e66998ce84ffc87d440",
            "value": 331070498
          }
        },
        "6179fd0ad7ac4bac83e863b48d5c610d": {
          "model_module": "@jupyter-widgets/controls",
          "model_module_version": "1.5.0",
          "model_name": "ProgressStyleModel",
          "state": {
            "_model_module": "@jupyter-widgets/controls",
            "_model_module_version": "1.5.0",
            "_model_name": "ProgressStyleModel",
            "_view_count": null,
            "_view_module": "@jupyter-widgets/base",
            "_view_module_version": "1.2.0",
            "_view_name": "StyleView",
            "bar_color": null,
            "description_width": ""
          }
        },
        "6c2d94aedd064800b63b1ac1f5791728": {
          "model_module": "@jupyter-widgets/controls",
          "model_module_version": "1.5.0",
          "model_name": "DescriptionStyleModel",
          "state": {
            "_model_module": "@jupyter-widgets/controls",
            "_model_module_version": "1.5.0",
            "_model_name": "DescriptionStyleModel",
            "_view_count": null,
            "_view_module": "@jupyter-widgets/base",
            "_view_module_version": "1.2.0",
            "_view_name": "StyleView",
            "description_width": ""
          }
        },
        "752de7742264447b9ca4c6cd9989bd42": {
          "model_module": "@jupyter-widgets/base",
          "model_module_version": "1.2.0",
          "model_name": "LayoutModel",
          "state": {
            "_model_module": "@jupyter-widgets/base",
            "_model_module_version": "1.2.0",
            "_model_name": "LayoutModel",
            "_view_count": null,
            "_view_module": "@jupyter-widgets/base",
            "_view_module_version": "1.2.0",
            "_view_name": "LayoutView",
            "align_content": null,
            "align_items": null,
            "align_self": null,
            "border": null,
            "bottom": null,
            "display": null,
            "flex": null,
            "flex_flow": null,
            "grid_area": null,
            "grid_auto_columns": null,
            "grid_auto_flow": null,
            "grid_auto_rows": null,
            "grid_column": null,
            "grid_gap": null,
            "grid_row": null,
            "grid_template_areas": null,
            "grid_template_columns": null,
            "grid_template_rows": null,
            "height": null,
            "justify_content": null,
            "justify_items": null,
            "left": null,
            "margin": null,
            "max_height": null,
            "max_width": null,
            "min_height": null,
            "min_width": null,
            "object_fit": null,
            "object_position": null,
            "order": null,
            "overflow": null,
            "overflow_x": null,
            "overflow_y": null,
            "padding": null,
            "right": null,
            "top": null,
            "visibility": null,
            "width": null
          }
        },
        "75a218121ebb4bc2922ed50f7bfa84f5": {
          "model_module": "@jupyter-widgets/controls",
          "model_module_version": "1.5.0",
          "model_name": "DescriptionStyleModel",
          "state": {
            "_model_module": "@jupyter-widgets/controls",
            "_model_module_version": "1.5.0",
            "_model_name": "DescriptionStyleModel",
            "_view_count": null,
            "_view_module": "@jupyter-widgets/base",
            "_view_module_version": "1.2.0",
            "_view_name": "StyleView",
            "description_width": ""
          }
        },
        "79ed8235dfcd477fa314c30c4a54ed08": {
          "model_module": "@jupyter-widgets/base",
          "model_module_version": "1.2.0",
          "model_name": "LayoutModel",
          "state": {
            "_model_module": "@jupyter-widgets/base",
            "_model_module_version": "1.2.0",
            "_model_name": "LayoutModel",
            "_view_count": null,
            "_view_module": "@jupyter-widgets/base",
            "_view_module_version": "1.2.0",
            "_view_name": "LayoutView",
            "align_content": null,
            "align_items": null,
            "align_self": null,
            "border": null,
            "bottom": null,
            "display": null,
            "flex": null,
            "flex_flow": null,
            "grid_area": null,
            "grid_auto_columns": null,
            "grid_auto_flow": null,
            "grid_auto_rows": null,
            "grid_column": null,
            "grid_gap": null,
            "grid_row": null,
            "grid_template_areas": null,
            "grid_template_columns": null,
            "grid_template_rows": null,
            "height": null,
            "justify_content": null,
            "justify_items": null,
            "left": null,
            "margin": null,
            "max_height": null,
            "max_width": null,
            "min_height": null,
            "min_width": null,
            "object_fit": null,
            "object_position": null,
            "order": null,
            "overflow": null,
            "overflow_x": null,
            "overflow_y": null,
            "padding": null,
            "right": null,
            "top": null,
            "visibility": null,
            "width": null
          }
        },
        "7d4495dcf69640dfac987a6a009680e6": {
          "model_module": "@jupyter-widgets/controls",
          "model_module_version": "1.5.0",
          "model_name": "FloatProgressModel",
          "state": {
            "_dom_classes": [],
            "_model_module": "@jupyter-widgets/controls",
            "_model_module_version": "1.5.0",
            "_model_name": "FloatProgressModel",
            "_view_count": null,
            "_view_module": "@jupyter-widgets/controls",
            "_view_module_version": "1.5.0",
            "_view_name": "ProgressView",
            "bar_style": "success",
            "description": "",
            "description_tooltip": null,
            "layout": "IPY_MODEL_9c2f7fc0954d41c984ecf01ee6ae0cd8",
            "max": 480,
            "min": 0,
            "orientation": "horizontal",
            "style": "IPY_MODEL_6179fd0ad7ac4bac83e863b48d5c610d",
            "value": 480
          }
        },
        "7ecae1c5e1c546a38d0ac722ca0b44f2": {
          "model_module": "@jupyter-widgets/controls",
          "model_module_version": "1.5.0",
          "model_name": "HTMLModel",
          "state": {
            "_dom_classes": [],
            "_model_module": "@jupyter-widgets/controls",
            "_model_module_version": "1.5.0",
            "_model_name": "HTMLModel",
            "_view_count": null,
            "_view_module": "@jupyter-widgets/controls",
            "_view_module_version": "1.5.0",
            "_view_name": "HTMLView",
            "description": "",
            "description_tooltip": null,
            "layout": "IPY_MODEL_9c03ff5f6d19493d8a4085809f1cb27a",
            "placeholder": "​",
            "style": "IPY_MODEL_cf6e8125045d451f93011e9285c23bdf",
            "value": " 878k/878k [00:01&lt;00:00, 1.04MB/s]"
          }
        },
        "81cce0c126f84535926d7d3909cec2ea": {
          "model_module": "@jupyter-widgets/controls",
          "model_module_version": "1.5.0",
          "model_name": "FloatProgressModel",
          "state": {
            "_dom_classes": [],
            "_model_module": "@jupyter-widgets/controls",
            "_model_module_version": "1.5.0",
            "_model_name": "FloatProgressModel",
            "_view_count": null,
            "_view_module": "@jupyter-widgets/controls",
            "_view_module_version": "1.5.0",
            "_view_name": "ProgressView",
            "bar_style": "success",
            "description": "",
            "description_tooltip": null,
            "layout": "IPY_MODEL_872316a65d294996ab53f4565128677e",
            "max": 456318,
            "min": 0,
            "orientation": "horizontal",
            "style": "IPY_MODEL_c68975517e9240cbadaf1e2f03a61600",
            "value": 456318
          }
        },
        "872316a65d294996ab53f4565128677e": {
          "model_module": "@jupyter-widgets/base",
          "model_module_version": "1.2.0",
          "model_name": "LayoutModel",
          "state": {
            "_model_module": "@jupyter-widgets/base",
            "_model_module_version": "1.2.0",
            "_model_name": "LayoutModel",
            "_view_count": null,
            "_view_module": "@jupyter-widgets/base",
            "_view_module_version": "1.2.0",
            "_view_name": "LayoutView",
            "align_content": null,
            "align_items": null,
            "align_self": null,
            "border": null,
            "bottom": null,
            "display": null,
            "flex": null,
            "flex_flow": null,
            "grid_area": null,
            "grid_auto_columns": null,
            "grid_auto_flow": null,
            "grid_auto_rows": null,
            "grid_column": null,
            "grid_gap": null,
            "grid_row": null,
            "grid_template_areas": null,
            "grid_template_columns": null,
            "grid_template_rows": null,
            "height": null,
            "justify_content": null,
            "justify_items": null,
            "left": null,
            "margin": null,
            "max_height": null,
            "max_width": null,
            "min_height": null,
            "min_width": null,
            "object_fit": null,
            "object_position": null,
            "order": null,
            "overflow": null,
            "overflow_x": null,
            "overflow_y": null,
            "padding": null,
            "right": null,
            "top": null,
            "visibility": null,
            "width": null
          }
        },
        "9201e4844b044d2d836333579e861795": {
          "model_module": "@jupyter-widgets/controls",
          "model_module_version": "1.5.0",
          "model_name": "HTMLModel",
          "state": {
            "_dom_classes": [],
            "_model_module": "@jupyter-widgets/controls",
            "_model_module_version": "1.5.0",
            "_model_name": "HTMLModel",
            "_view_count": null,
            "_view_module": "@jupyter-widgets/controls",
            "_view_module_version": "1.5.0",
            "_view_name": "HTMLView",
            "description": "",
            "description_tooltip": null,
            "layout": "IPY_MODEL_c5003e4e4da54822abf69d8f34523914",
            "placeholder": "​",
            "style": "IPY_MODEL_6c2d94aedd064800b63b1ac1f5791728",
            "value": " 446k/446k [00:01&lt;00:00, 551kB/s]"
          }
        },
        "9c03ff5f6d19493d8a4085809f1cb27a": {
          "model_module": "@jupyter-widgets/base",
          "model_module_version": "1.2.0",
          "model_name": "LayoutModel",
          "state": {
            "_model_module": "@jupyter-widgets/base",
            "_model_module_version": "1.2.0",
            "_model_name": "LayoutModel",
            "_view_count": null,
            "_view_module": "@jupyter-widgets/base",
            "_view_module_version": "1.2.0",
            "_view_name": "LayoutView",
            "align_content": null,
            "align_items": null,
            "align_self": null,
            "border": null,
            "bottom": null,
            "display": null,
            "flex": null,
            "flex_flow": null,
            "grid_area": null,
            "grid_auto_columns": null,
            "grid_auto_flow": null,
            "grid_auto_rows": null,
            "grid_column": null,
            "grid_gap": null,
            "grid_row": null,
            "grid_template_areas": null,
            "grid_template_columns": null,
            "grid_template_rows": null,
            "height": null,
            "justify_content": null,
            "justify_items": null,
            "left": null,
            "margin": null,
            "max_height": null,
            "max_width": null,
            "min_height": null,
            "min_width": null,
            "object_fit": null,
            "object_position": null,
            "order": null,
            "overflow": null,
            "overflow_x": null,
            "overflow_y": null,
            "padding": null,
            "right": null,
            "top": null,
            "visibility": null,
            "width": null
          }
        },
        "9c2f7fc0954d41c984ecf01ee6ae0cd8": {
          "model_module": "@jupyter-widgets/base",
          "model_module_version": "1.2.0",
          "model_name": "LayoutModel",
          "state": {
            "_model_module": "@jupyter-widgets/base",
            "_model_module_version": "1.2.0",
            "_model_name": "LayoutModel",
            "_view_count": null,
            "_view_module": "@jupyter-widgets/base",
            "_view_module_version": "1.2.0",
            "_view_name": "LayoutView",
            "align_content": null,
            "align_items": null,
            "align_self": null,
            "border": null,
            "bottom": null,
            "display": null,
            "flex": null,
            "flex_flow": null,
            "grid_area": null,
            "grid_auto_columns": null,
            "grid_auto_flow": null,
            "grid_auto_rows": null,
            "grid_column": null,
            "grid_gap": null,
            "grid_row": null,
            "grid_template_areas": null,
            "grid_template_columns": null,
            "grid_template_rows": null,
            "height": null,
            "justify_content": null,
            "justify_items": null,
            "left": null,
            "margin": null,
            "max_height": null,
            "max_width": null,
            "min_height": null,
            "min_width": null,
            "object_fit": null,
            "object_position": null,
            "order": null,
            "overflow": null,
            "overflow_x": null,
            "overflow_y": null,
            "padding": null,
            "right": null,
            "top": null,
            "visibility": null,
            "width": null
          }
        },
        "a32976d0a49e40fe8333f8741e8e4649": {
          "model_module": "@jupyter-widgets/controls",
          "model_module_version": "1.5.0",
          "model_name": "DescriptionStyleModel",
          "state": {
            "_model_module": "@jupyter-widgets/controls",
            "_model_module_version": "1.5.0",
            "_model_name": "DescriptionStyleModel",
            "_view_count": null,
            "_view_module": "@jupyter-widgets/base",
            "_view_module_version": "1.2.0",
            "_view_name": "StyleView",
            "description_width": ""
          }
        },
        "af7e8f1c55f447489f682950278e5983": {
          "model_module": "@jupyter-widgets/controls",
          "model_module_version": "1.5.0",
          "model_name": "HTMLModel",
          "state": {
            "_dom_classes": [],
            "_model_module": "@jupyter-widgets/controls",
            "_model_module_version": "1.5.0",
            "_model_name": "HTMLModel",
            "_view_count": null,
            "_view_module": "@jupyter-widgets/controls",
            "_view_module_version": "1.5.0",
            "_view_name": "HTMLView",
            "description": "",
            "description_tooltip": null,
            "layout": "IPY_MODEL_752de7742264447b9ca4c6cd9989bd42",
            "placeholder": "​",
            "style": "IPY_MODEL_2fdb0e69e4dc4bf89144d2e40988449b",
            "value": " 1.29M/1.29M [00:01&lt;00:00, 1.08MB/s]"
          }
        },
        "b21ec230f9494a13899c4013252a749d": {
          "model_module": "@jupyter-widgets/controls",
          "model_module_version": "1.5.0",
          "model_name": "FloatProgressModel",
          "state": {
            "_dom_classes": [],
            "_model_module": "@jupyter-widgets/controls",
            "_model_module_version": "1.5.0",
            "_model_name": "FloatProgressModel",
            "_view_count": null,
            "_view_module": "@jupyter-widgets/controls",
            "_view_module_version": "1.5.0",
            "_view_name": "ProgressView",
            "bar_style": "success",
            "description": "",
            "description_tooltip": null,
            "layout": "IPY_MODEL_444a07625df24dc5b7660104f50bdfd2",
            "max": 898823,
            "min": 0,
            "orientation": "horizontal",
            "style": "IPY_MODEL_4930c85502eb4b27bc89f7500cf02bcf",
            "value": 898823
          }
        },
        "bf690e65e3b9445e843f0b8ac47c5d4a": {
          "model_module": "@jupyter-widgets/base",
          "model_module_version": "1.2.0",
          "model_name": "LayoutModel",
          "state": {
            "_model_module": "@jupyter-widgets/base",
            "_model_module_version": "1.2.0",
            "_model_name": "LayoutModel",
            "_view_count": null,
            "_view_module": "@jupyter-widgets/base",
            "_view_module_version": "1.2.0",
            "_view_name": "LayoutView",
            "align_content": null,
            "align_items": null,
            "align_self": null,
            "border": null,
            "bottom": null,
            "display": null,
            "flex": null,
            "flex_flow": null,
            "grid_area": null,
            "grid_auto_columns": null,
            "grid_auto_flow": null,
            "grid_auto_rows": null,
            "grid_column": null,
            "grid_gap": null,
            "grid_row": null,
            "grid_template_areas": null,
            "grid_template_columns": null,
            "grid_template_rows": null,
            "height": null,
            "justify_content": null,
            "justify_items": null,
            "left": null,
            "margin": null,
            "max_height": null,
            "max_width": null,
            "min_height": null,
            "min_width": null,
            "object_fit": null,
            "object_position": null,
            "order": null,
            "overflow": null,
            "overflow_x": null,
            "overflow_y": null,
            "padding": null,
            "right": null,
            "top": null,
            "visibility": null,
            "width": null
          }
        },
        "c24c04fcf11b498dbd725e8b80668927": {
          "model_module": "@jupyter-widgets/base",
          "model_module_version": "1.2.0",
          "model_name": "LayoutModel",
          "state": {
            "_model_module": "@jupyter-widgets/base",
            "_model_module_version": "1.2.0",
            "_model_name": "LayoutModel",
            "_view_count": null,
            "_view_module": "@jupyter-widgets/base",
            "_view_module_version": "1.2.0",
            "_view_name": "LayoutView",
            "align_content": null,
            "align_items": null,
            "align_self": null,
            "border": null,
            "bottom": null,
            "display": null,
            "flex": null,
            "flex_flow": null,
            "grid_area": null,
            "grid_auto_columns": null,
            "grid_auto_flow": null,
            "grid_auto_rows": null,
            "grid_column": null,
            "grid_gap": null,
            "grid_row": null,
            "grid_template_areas": null,
            "grid_template_columns": null,
            "grid_template_rows": null,
            "height": null,
            "justify_content": null,
            "justify_items": null,
            "left": null,
            "margin": null,
            "max_height": null,
            "max_width": null,
            "min_height": null,
            "min_width": null,
            "object_fit": null,
            "object_position": null,
            "order": null,
            "overflow": null,
            "overflow_x": null,
            "overflow_y": null,
            "padding": null,
            "right": null,
            "top": null,
            "visibility": null,
            "width": null
          }
        },
        "c258cc3b8699494592bffbe4c1950470": {
          "model_module": "@jupyter-widgets/controls",
          "model_module_version": "1.5.0",
          "model_name": "HBoxModel",
          "state": {
            "_dom_classes": [],
            "_model_module": "@jupyter-widgets/controls",
            "_model_module_version": "1.5.0",
            "_model_name": "HBoxModel",
            "_view_count": null,
            "_view_module": "@jupyter-widgets/controls",
            "_view_module_version": "1.5.0",
            "_view_name": "HBoxView",
            "box_style": "",
            "children": [
              "IPY_MODEL_133690c1d4594f8dbfd3c4f357477fcb",
              "IPY_MODEL_4f471f8017764855bf5742039fa1dca5",
              "IPY_MODEL_af7e8f1c55f447489f682950278e5983"
            ],
            "layout": "IPY_MODEL_f871f91ce0e047719900fccf6aab2e80"
          }
        },
        "c5003e4e4da54822abf69d8f34523914": {
          "model_module": "@jupyter-widgets/base",
          "model_module_version": "1.2.0",
          "model_name": "LayoutModel",
          "state": {
            "_model_module": "@jupyter-widgets/base",
            "_model_module_version": "1.2.0",
            "_model_name": "LayoutModel",
            "_view_count": null,
            "_view_module": "@jupyter-widgets/base",
            "_view_module_version": "1.2.0",
            "_view_name": "LayoutView",
            "align_content": null,
            "align_items": null,
            "align_self": null,
            "border": null,
            "bottom": null,
            "display": null,
            "flex": null,
            "flex_flow": null,
            "grid_area": null,
            "grid_auto_columns": null,
            "grid_auto_flow": null,
            "grid_auto_rows": null,
            "grid_column": null,
            "grid_gap": null,
            "grid_row": null,
            "grid_template_areas": null,
            "grid_template_columns": null,
            "grid_template_rows": null,
            "height": null,
            "justify_content": null,
            "justify_items": null,
            "left": null,
            "margin": null,
            "max_height": null,
            "max_width": null,
            "min_height": null,
            "min_width": null,
            "object_fit": null,
            "object_position": null,
            "order": null,
            "overflow": null,
            "overflow_x": null,
            "overflow_y": null,
            "padding": null,
            "right": null,
            "top": null,
            "visibility": null,
            "width": null
          }
        },
        "c68975517e9240cbadaf1e2f03a61600": {
          "model_module": "@jupyter-widgets/controls",
          "model_module_version": "1.5.0",
          "model_name": "ProgressStyleModel",
          "state": {
            "_model_module": "@jupyter-widgets/controls",
            "_model_module_version": "1.5.0",
            "_model_name": "ProgressStyleModel",
            "_view_count": null,
            "_view_module": "@jupyter-widgets/base",
            "_view_module_version": "1.2.0",
            "_view_name": "StyleView",
            "bar_color": null,
            "description_width": ""
          }
        },
        "c7b3ef68170548c19a94a454c5158f0a": {
          "model_module": "@jupyter-widgets/base",
          "model_module_version": "1.2.0",
          "model_name": "LayoutModel",
          "state": {
            "_model_module": "@jupyter-widgets/base",
            "_model_module_version": "1.2.0",
            "_model_name": "LayoutModel",
            "_view_count": null,
            "_view_module": "@jupyter-widgets/base",
            "_view_module_version": "1.2.0",
            "_view_name": "LayoutView",
            "align_content": null,
            "align_items": null,
            "align_self": null,
            "border": null,
            "bottom": null,
            "display": null,
            "flex": null,
            "flex_flow": null,
            "grid_area": null,
            "grid_auto_columns": null,
            "grid_auto_flow": null,
            "grid_auto_rows": null,
            "grid_column": null,
            "grid_gap": null,
            "grid_row": null,
            "grid_template_areas": null,
            "grid_template_columns": null,
            "grid_template_rows": null,
            "height": null,
            "justify_content": null,
            "justify_items": null,
            "left": null,
            "margin": null,
            "max_height": null,
            "max_width": null,
            "min_height": null,
            "min_width": null,
            "object_fit": null,
            "object_position": null,
            "order": null,
            "overflow": null,
            "overflow_x": null,
            "overflow_y": null,
            "padding": null,
            "right": null,
            "top": null,
            "visibility": null,
            "width": null
          }
        },
        "cab53cb021054a9eab28a836b9bc5d4a": {
          "model_module": "@jupyter-widgets/controls",
          "model_module_version": "1.5.0",
          "model_name": "HTMLModel",
          "state": {
            "_dom_classes": [],
            "_model_module": "@jupyter-widgets/controls",
            "_model_module_version": "1.5.0",
            "_model_name": "HTMLModel",
            "_view_count": null,
            "_view_module": "@jupyter-widgets/controls",
            "_view_module_version": "1.5.0",
            "_view_name": "HTMLView",
            "description": "",
            "description_tooltip": null,
            "layout": "IPY_MODEL_fab34115652e4bf78b09f45f52ae19c3",
            "placeholder": "​",
            "style": "IPY_MODEL_edbed5acc6d54b00977ada8cf1738fc9",
            "value": "Downloading config.json: 100%"
          }
        },
        "cab98e55ec0d420facc2265ce8d7d2f6": {
          "model_module": "@jupyter-widgets/controls",
          "model_module_version": "1.5.0",
          "model_name": "DescriptionStyleModel",
          "state": {
            "_model_module": "@jupyter-widgets/controls",
            "_model_module_version": "1.5.0",
            "_model_name": "DescriptionStyleModel",
            "_view_count": null,
            "_view_module": "@jupyter-widgets/base",
            "_view_module_version": "1.2.0",
            "_view_name": "StyleView",
            "description_width": ""
          }
        },
        "cd840788d7ce4f02bdf5003b79acb4a7": {
          "model_module": "@jupyter-widgets/controls",
          "model_module_version": "1.5.0",
          "model_name": "HBoxModel",
          "state": {
            "_dom_classes": [],
            "_model_module": "@jupyter-widgets/controls",
            "_model_module_version": "1.5.0",
            "_model_name": "HBoxModel",
            "_view_count": null,
            "_view_module": "@jupyter-widgets/controls",
            "_view_module_version": "1.5.0",
            "_view_name": "HBoxView",
            "box_style": "",
            "children": [
              "IPY_MODEL_30027defe3f74178867ce96caadb6292",
              "IPY_MODEL_5aa8faa7dc99494b8251ab1ab275237c",
              "IPY_MODEL_4063ff72b24b47f391629682ca5779d3"
            ],
            "layout": "IPY_MODEL_46480cd822cf492691b1ead4338340ee"
          }
        },
        "cefe9b714e304e46ab45aab0217d77e0": {
          "model_module": "@jupyter-widgets/base",
          "model_module_version": "1.2.0",
          "model_name": "LayoutModel",
          "state": {
            "_model_module": "@jupyter-widgets/base",
            "_model_module_version": "1.2.0",
            "_model_name": "LayoutModel",
            "_view_count": null,
            "_view_module": "@jupyter-widgets/base",
            "_view_module_version": "1.2.0",
            "_view_name": "LayoutView",
            "align_content": null,
            "align_items": null,
            "align_self": null,
            "border": null,
            "bottom": null,
            "display": null,
            "flex": null,
            "flex_flow": null,
            "grid_area": null,
            "grid_auto_columns": null,
            "grid_auto_flow": null,
            "grid_auto_rows": null,
            "grid_column": null,
            "grid_gap": null,
            "grid_row": null,
            "grid_template_areas": null,
            "grid_template_columns": null,
            "grid_template_rows": null,
            "height": null,
            "justify_content": null,
            "justify_items": null,
            "left": null,
            "margin": null,
            "max_height": null,
            "max_width": null,
            "min_height": null,
            "min_width": null,
            "object_fit": null,
            "object_position": null,
            "order": null,
            "overflow": null,
            "overflow_x": null,
            "overflow_y": null,
            "padding": null,
            "right": null,
            "top": null,
            "visibility": null,
            "width": null
          }
        },
        "cf3cd9232f6945239758e9ee6317ad6a": {
          "model_module": "@jupyter-widgets/base",
          "model_module_version": "1.2.0",
          "model_name": "LayoutModel",
          "state": {
            "_model_module": "@jupyter-widgets/base",
            "_model_module_version": "1.2.0",
            "_model_name": "LayoutModel",
            "_view_count": null,
            "_view_module": "@jupyter-widgets/base",
            "_view_module_version": "1.2.0",
            "_view_name": "LayoutView",
            "align_content": null,
            "align_items": null,
            "align_self": null,
            "border": null,
            "bottom": null,
            "display": null,
            "flex": null,
            "flex_flow": null,
            "grid_area": null,
            "grid_auto_columns": null,
            "grid_auto_flow": null,
            "grid_auto_rows": null,
            "grid_column": null,
            "grid_gap": null,
            "grid_row": null,
            "grid_template_areas": null,
            "grid_template_columns": null,
            "grid_template_rows": null,
            "height": null,
            "justify_content": null,
            "justify_items": null,
            "left": null,
            "margin": null,
            "max_height": null,
            "max_width": null,
            "min_height": null,
            "min_width": null,
            "object_fit": null,
            "object_position": null,
            "order": null,
            "overflow": null,
            "overflow_x": null,
            "overflow_y": null,
            "padding": null,
            "right": null,
            "top": null,
            "visibility": null,
            "width": null
          }
        },
        "cf6e8125045d451f93011e9285c23bdf": {
          "model_module": "@jupyter-widgets/controls",
          "model_module_version": "1.5.0",
          "model_name": "DescriptionStyleModel",
          "state": {
            "_model_module": "@jupyter-widgets/controls",
            "_model_module_version": "1.5.0",
            "_model_name": "DescriptionStyleModel",
            "_view_count": null,
            "_view_module": "@jupyter-widgets/base",
            "_view_module_version": "1.2.0",
            "_view_name": "StyleView",
            "description_width": ""
          }
        },
        "d3f1e12f2cb14ed7aac7ae4554fa6f39": {
          "model_module": "@jupyter-widgets/controls",
          "model_module_version": "1.5.0",
          "model_name": "DescriptionStyleModel",
          "state": {
            "_model_module": "@jupyter-widgets/controls",
            "_model_module_version": "1.5.0",
            "_model_name": "DescriptionStyleModel",
            "_view_count": null,
            "_view_module": "@jupyter-widgets/base",
            "_view_module_version": "1.2.0",
            "_view_name": "StyleView",
            "description_width": ""
          }
        },
        "e08186fbf84445aaa7ef267ce960379b": {
          "model_module": "@jupyter-widgets/controls",
          "model_module_version": "1.5.0",
          "model_name": "DescriptionStyleModel",
          "state": {
            "_model_module": "@jupyter-widgets/controls",
            "_model_module_version": "1.5.0",
            "_model_name": "DescriptionStyleModel",
            "_view_count": null,
            "_view_module": "@jupyter-widgets/base",
            "_view_module_version": "1.2.0",
            "_view_name": "StyleView",
            "description_width": ""
          }
        },
        "e85b2bab7b44469ca536e61279347f72": {
          "model_module": "@jupyter-widgets/controls",
          "model_module_version": "1.5.0",
          "model_name": "HTMLModel",
          "state": {
            "_dom_classes": [],
            "_model_module": "@jupyter-widgets/controls",
            "_model_module_version": "1.5.0",
            "_model_name": "HTMLModel",
            "_view_count": null,
            "_view_module": "@jupyter-widgets/controls",
            "_view_module_version": "1.5.0",
            "_view_name": "HTMLView",
            "description": "",
            "description_tooltip": null,
            "layout": "IPY_MODEL_cf3cd9232f6945239758e9ee6317ad6a",
            "placeholder": "​",
            "style": "IPY_MODEL_0548f3feba554187af246d87713ce5ea",
            "value": " 480/480 [00:00&lt;00:00, 15.0kB/s]"
          }
        },
        "e87c1411a74c4bcab752ebc0e86e36a4": {
          "model_module": "@jupyter-widgets/controls",
          "model_module_version": "1.5.0",
          "model_name": "HBoxModel",
          "state": {
            "_dom_classes": [],
            "_model_module": "@jupyter-widgets/controls",
            "_model_module_version": "1.5.0",
            "_model_name": "HBoxModel",
            "_view_count": null,
            "_view_module": "@jupyter-widgets/controls",
            "_view_module_version": "1.5.0",
            "_view_name": "HBoxView",
            "box_style": "",
            "children": [
              "IPY_MODEL_0af79228f2864bb89ddf134a3e6594da",
              "IPY_MODEL_81cce0c126f84535926d7d3909cec2ea",
              "IPY_MODEL_9201e4844b044d2d836333579e861795"
            ],
            "layout": "IPY_MODEL_4df9b180587a4e419fb7b1489cab172b"
          }
        },
        "edbed5acc6d54b00977ada8cf1738fc9": {
          "model_module": "@jupyter-widgets/controls",
          "model_module_version": "1.5.0",
          "model_name": "DescriptionStyleModel",
          "state": {
            "_model_module": "@jupyter-widgets/controls",
            "_model_module_version": "1.5.0",
            "_model_name": "DescriptionStyleModel",
            "_view_count": null,
            "_view_module": "@jupyter-widgets/base",
            "_view_module_version": "1.2.0",
            "_view_name": "StyleView",
            "description_width": ""
          }
        },
        "edfd68cbb8bb4376a6f2722eac797d42": {
          "model_module": "@jupyter-widgets/base",
          "model_module_version": "1.2.0",
          "model_name": "LayoutModel",
          "state": {
            "_model_module": "@jupyter-widgets/base",
            "_model_module_version": "1.2.0",
            "_model_name": "LayoutModel",
            "_view_count": null,
            "_view_module": "@jupyter-widgets/base",
            "_view_module_version": "1.2.0",
            "_view_name": "LayoutView",
            "align_content": null,
            "align_items": null,
            "align_self": null,
            "border": null,
            "bottom": null,
            "display": null,
            "flex": null,
            "flex_flow": null,
            "grid_area": null,
            "grid_auto_columns": null,
            "grid_auto_flow": null,
            "grid_auto_rows": null,
            "grid_column": null,
            "grid_gap": null,
            "grid_row": null,
            "grid_template_areas": null,
            "grid_template_columns": null,
            "grid_template_rows": null,
            "height": null,
            "justify_content": null,
            "justify_items": null,
            "left": null,
            "margin": null,
            "max_height": null,
            "max_width": null,
            "min_height": null,
            "min_width": null,
            "object_fit": null,
            "object_position": null,
            "order": null,
            "overflow": null,
            "overflow_x": null,
            "overflow_y": null,
            "padding": null,
            "right": null,
            "top": null,
            "visibility": null,
            "width": null
          }
        },
        "f871f91ce0e047719900fccf6aab2e80": {
          "model_module": "@jupyter-widgets/base",
          "model_module_version": "1.2.0",
          "model_name": "LayoutModel",
          "state": {
            "_model_module": "@jupyter-widgets/base",
            "_model_module_version": "1.2.0",
            "_model_name": "LayoutModel",
            "_view_count": null,
            "_view_module": "@jupyter-widgets/base",
            "_view_module_version": "1.2.0",
            "_view_name": "LayoutView",
            "align_content": null,
            "align_items": null,
            "align_self": null,
            "border": null,
            "bottom": null,
            "display": null,
            "flex": null,
            "flex_flow": null,
            "grid_area": null,
            "grid_auto_columns": null,
            "grid_auto_flow": null,
            "grid_auto_rows": null,
            "grid_column": null,
            "grid_gap": null,
            "grid_row": null,
            "grid_template_areas": null,
            "grid_template_columns": null,
            "grid_template_rows": null,
            "height": null,
            "justify_content": null,
            "justify_items": null,
            "left": null,
            "margin": null,
            "max_height": null,
            "max_width": null,
            "min_height": null,
            "min_width": null,
            "object_fit": null,
            "object_position": null,
            "order": null,
            "overflow": null,
            "overflow_x": null,
            "overflow_y": null,
            "padding": null,
            "right": null,
            "top": null,
            "visibility": null,
            "width": null
          }
        },
        "f9f3989c231249b6b8bb05b9a2286807": {
          "model_module": "@jupyter-widgets/controls",
          "model_module_version": "1.5.0",
          "model_name": "HBoxModel",
          "state": {
            "_dom_classes": [],
            "_model_module": "@jupyter-widgets/controls",
            "_model_module_version": "1.5.0",
            "_model_name": "HBoxModel",
            "_view_count": null,
            "_view_module": "@jupyter-widgets/controls",
            "_view_module_version": "1.5.0",
            "_view_name": "HBoxView",
            "box_style": "",
            "children": [
              "IPY_MODEL_1c34fc04c5254773afb95ef4dad0db49",
              "IPY_MODEL_b21ec230f9494a13899c4013252a749d",
              "IPY_MODEL_7ecae1c5e1c546a38d0ac722ca0b44f2"
            ],
            "layout": "IPY_MODEL_c24c04fcf11b498dbd725e8b80668927"
          }
        },
        "fab34115652e4bf78b09f45f52ae19c3": {
          "model_module": "@jupyter-widgets/base",
          "model_module_version": "1.2.0",
          "model_name": "LayoutModel",
          "state": {
            "_model_module": "@jupyter-widgets/base",
            "_model_module_version": "1.2.0",
            "_model_name": "LayoutModel",
            "_view_count": null,
            "_view_module": "@jupyter-widgets/base",
            "_view_module_version": "1.2.0",
            "_view_name": "LayoutView",
            "align_content": null,
            "align_items": null,
            "align_self": null,
            "border": null,
            "bottom": null,
            "display": null,
            "flex": null,
            "flex_flow": null,
            "grid_area": null,
            "grid_auto_columns": null,
            "grid_auto_flow": null,
            "grid_auto_rows": null,
            "grid_column": null,
            "grid_gap": null,
            "grid_row": null,
            "grid_template_areas": null,
            "grid_template_columns": null,
            "grid_template_rows": null,
            "height": null,
            "justify_content": null,
            "justify_items": null,
            "left": null,
            "margin": null,
            "max_height": null,
            "max_width": null,
            "min_height": null,
            "min_width": null,
            "object_fit": null,
            "object_position": null,
            "order": null,
            "overflow": null,
            "overflow_x": null,
            "overflow_y": null,
            "padding": null,
            "right": null,
            "top": null,
            "visibility": null,
            "width": null
          }
        },
        "ff83255734234dbf980593542dfc240c": {
          "model_module": "@jupyter-widgets/controls",
          "model_module_version": "1.5.0",
          "model_name": "ProgressStyleModel",
          "state": {
            "_model_module": "@jupyter-widgets/controls",
            "_model_module_version": "1.5.0",
            "_model_name": "ProgressStyleModel",
            "_view_count": null,
            "_view_module": "@jupyter-widgets/base",
            "_view_module_version": "1.2.0",
            "_view_name": "StyleView",
            "bar_color": null,
            "description_width": ""
          }
        }
      }
    }
  },
  "nbformat": 4,
  "nbformat_minor": 0
}
